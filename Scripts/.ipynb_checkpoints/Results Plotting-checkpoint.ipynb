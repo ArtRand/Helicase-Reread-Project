{
 "metadata": {
  "name": "",
  "signature": "sha256:479cfba1d816aa94762a92fbbdeae23f1959dacb058d2e25992f86c24748a99f"
 },
 "nbformat": 3,
 "nbformat_minor": 0,
 "worksheets": [
  {
   "cells": [
    {
     "cell_type": "code",
     "collapsed": false,
     "input": [
      "%matplotlib inline\n",
      "\n",
      "from matplotlib import pyplot as plt\n",
      "import numpy as np\n",
      "import os\n",
      "\n",
      "## Store Results\n",
      "source = '../Data/Results'\n",
      "for root, dirnames, filenames in os.walk(source):\n",
      "    trials = filenames\n",
      "\n",
      "## Sort Trials:\n",
      "trained_1chunk_mean = sorted([x for x in trials if 'Trained' in x and '1chunk' in x and 'Mean' in x], key=lambda x: x.split('cscore_')[1].split('.txt')[0], reverse=True )\n",
      "trained_2chunk_mean = sorted([x for x in trials if 'Trained' in x and '2chunk' in x and 'Mean' in x], key=lambda x: x.split('cscore_')[1].split('.txt')[0], reverse=True )\n",
      "trained_1chunk_product = sorted([x for x in trials if 'Trained' in x and '1chunk' in x and 'Product' in x], key=lambda x: x.split('cscore_')[1].split('.txt')[0], reverse=True )\n",
      "\n",
      "untrained_1chunk_mean = sorted([x for x in trials if 'Untrained' in x and '1chunk' in x and 'Mean' in x], key=lambda x: x.split('cscore_')[1].split('.txt')[0], reverse=True )\n",
      "untrained_2chunk_mean = sorted([x for x in trials if 'Untrained' in x and '2chunk' in x and 'Mean' in x], key=lambda x: x.split('cscore_')[1].split('.txt')[0], reverse=True )\n",
      "untrained_1chunk_product = sorted([x for x in trials if 'Untrained' in x and '1chunk' in x and 'Product' in x], key=lambda x: x.split('cscore_')[1].split('.txt')[0], reverse=True )\n",
      "\n"
     ],
     "language": "python",
     "metadata": {},
     "outputs": [],
     "prompt_number": 30
    },
    {
     "cell_type": "heading",
     "level": 1,
     "metadata": {},
     "source": [
      "Line Plot Function"
     ]
    },
    {
     "cell_type": "code",
     "collapsed": false,
     "input": [
      "def accuracy_by_filter_score( trial_set ):\n",
      "    \n",
      "    # Convert Groups of arrays into lists of scores by csore.\n",
      "    first, last, random = [], [], []\n",
      "    hmm, best, ind = [], [], []\n",
      "    \n",
      "    for trial_name in trial_set:\n",
      "            \n",
      "            trial = np.loadtxt( '../Data/Results/' + trial_name, delimiter = ',' )\n",
      "            means = np.mean( trial, axis = 0 )\n",
      "            stds = np.std( trial, axis = 0 )\n",
      "            \n",
      "            accuracies = means[::2]\n",
      "            acc_std = stds[::2]\n",
      "            \n",
      "            print accuracies\n",
      "            \n",
      "            break\n",
      "    \n",
      "accuracy_by_filter_score( untrained_1chunk_product )"
     ],
     "language": "python",
     "metadata": {},
     "outputs": [
      {
       "output_type": "stream",
       "stream": "stdout",
       "text": [
        "Untrained_1chunk_Product_2.0_cscore_9.txt\n",
        "[ 0.66666667  0.63439476  0.46666667  0.45625114  0.46666667  0.45626763\n",
        "  0.38333333  0.37229261  0.46666667  0.4567536   0.46666667  0.55033116]\n"
       ]
      }
     ],
     "prompt_number": 35
    },
    {
     "cell_type": "heading",
     "level": 1,
     "metadata": {},
     "source": [
      "Individual Trials by Cscore "
     ]
    },
    {
     "cell_type": "code",
     "collapsed": false,
     "input": [
      "def plot_results( trial_set ):\n",
      "    ## Borrowing heavily from: http://matplotlib.org/1.2.1/examples/api/barchart_demo.html\n",
      "    for trial_name in trial_set:\n",
      "        \n",
      "        trial = np.loadtxt( '../Data/Results/' + trial_name, delimiter = ',')\n",
      "        means = np.mean( trial, axis = 0 )\n",
      "        stds = np.std( trial, axis = 0 )\n",
      "        \n",
      "        accuracies = means[::2]\n",
      "        acc_std = stds[::2]\n",
      "        softcalls = means[1::2]\n",
      "        sc_std = stds[1::2]\n",
      "        N = 6\n",
      "        \n",
      "        ind = np.arange(N)\n",
      "        width = 0.35\n",
      "        \n",
      "        fig = plt.figure()\n",
      "        ax = fig.add_subplot(111)\n",
      "        rects1 = ax.bar( ind, accuracies, width, color='r', yerr=acc_std )\n",
      "        rects2 = ax.bar( ind+width, softcalls, width, color='g', yerr=sc_std )\n",
      "        \n",
      "        ax.set_ylabel( 'Value' )\n",
      "        ax.set_title( trial_name.split('.txt')[0] )\n",
      "        ax.set_xticks(ind+width)\n",
      "        ax.set_xticklabels( ('First', 'Last', 'Random', 'HMM', 'Best', 'Ind' ) )\n",
      "        plt.ylim( [0, 1.0] )\n",
      "        \n",
      "        ax.legend( (rects1[0], rects2[0]), ('Accuracy', 'Softcall') )\n",
      "        \n",
      "        def autolabel(rects):\n",
      "                for rect in rects:\n",
      "                    height = rect.get_height()\n",
      "                    ax.text(rect.get_x()+rect.get_width()*1.0/2., 1.05*height, str(round(height,2)), ha='center', va='bottom')\n",
      "\n",
      "        autolabel(rects1)\n",
      "        autolabel(rects2)\n",
      "        \n",
      "        plt.show()\n",
      "        \n",
      "plot_results( untrained_1chunk_mean )\n",
      "    "
     ],
     "language": "python",
     "metadata": {},
     "outputs": []
    },
    {
     "cell_type": "heading",
     "level": 1,
     "metadata": {},
     "source": [
      "Untrained - 1Chunk - Mean Method"
     ]
    },
    {
     "cell_type": "heading",
     "level": 1,
     "metadata": {},
     "source": [
      "Untrained - 2 Chunk - Mean Method"
     ]
    },
    {
     "cell_type": "code",
     "collapsed": false,
     "input": [
      "plot_results( untrained_2chunk_mean )"
     ],
     "language": "python",
     "metadata": {},
     "outputs": []
    },
    {
     "cell_type": "heading",
     "level": 1,
     "metadata": {},
     "source": [
      "Untrained - 1 Chunk - Product Method"
     ]
    },
    {
     "cell_type": "code",
     "collapsed": false,
     "input": [
      "plot_results( untrained_1chunk_product )"
     ],
     "language": "python",
     "metadata": {},
     "outputs": []
    },
    {
     "cell_type": "heading",
     "level": 1,
     "metadata": {},
     "source": [
      "Trained - 1 Chunk - Mean"
     ]
    },
    {
     "cell_type": "code",
     "collapsed": false,
     "input": [
      "plot_results( trained_1chunk_mean )"
     ],
     "language": "python",
     "metadata": {},
     "outputs": []
    },
    {
     "cell_type": "code",
     "collapsed": false,
     "input": [
      "plot_results( trained_1chunk_product )"
     ],
     "language": "python",
     "metadata": {},
     "outputs": []
    }
   ],
   "metadata": {}
  }
 ]
}