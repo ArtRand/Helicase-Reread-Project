{
 "metadata": {
  "name": "",
  "signature": "sha256:dfd9a17b98c94e75ea30726d8b7c56f1d6321eeb5590afba98f53cff00a5e44f"
 },
 "nbformat": 3,
 "nbformat_minor": 0,
 "worksheets": [
  {
   "cells": [
    {
     "cell_type": "code",
     "collapsed": false,
     "input": [
      "%matplotlib inline\n",
      "\n",
      "from matplotlib import pyplot as plt\n",
      "import numpy as np\n",
      "import os\n",
      "\n",
      "## Store Results\n",
      "source = '../Data/Results'\n",
      "for root, dirnames, filenames in os.walk(source):\n",
      "    trials = filenames\n",
      "\n",
      "## Sort Trials:\n",
      "trained_1chunk = sorted([x for x in trials if 'Trained' in x and '1chunk' in x], key=lambda x: x.split('cscore_')[1].split('.txt')[0], reverse=True )\n",
      "trained_2chunk = sorted([x for x in trials if 'Trained' in x and '2chunk' in x], key=lambda x: x.split('cscore_')[1].split('.txt')[0], reverse=True )\n",
      "\n",
      "untrained_1chunk = sorted([x for x in trials if 'Untrained' in x and '1chunk' in x], key=lambda x: x.split('cscore_')[1].split('.txt')[0], reverse=True )\n",
      "untrained_2chunk = sorted([x for x in trials if 'Untrained' in x and '2chunk' in x], key=lambda x: x.split('cscore_')[1].split('.txt')[0], reverse=True )\n",
      "\n",
      "## Borrowing heavily from: http://matplotlib.org/1.2.1/examples/api/barchart_demo.html\n",
      "## For the grouped plots\n"
     ],
     "language": "python",
     "metadata": {},
     "outputs": [
      {
       "output_type": "stream",
       "stream": "stdout",
       "text": [
        "['Trained_1chunk_5.0_cscore_9.txt', 'Trained_1chunk_12.0_cscore_8.txt', 'Trained_1chunk_20.0_cscore_7.txt', 'Trained_1chunk_26.0_cscore_6.txt', 'Trained_1chunk_32.0_cscore_5.txt', 'Trained_1chunk_38.0_cscore_4.txt', 'Trained_1chunk_42.0_cscore_3.txt', 'Trained_1chunk_45.0_cscore_2.txt', 'Trained_1chunk_49.0_cscore_1.txt']\n",
        "['Trained_2chunk_0.0_cscore_9.txt', 'Trained_2chunk_1.0_cscore_8.txt', 'Trained_2chunk_4.0_cscore_7.txt', 'Trained_2chunk_6.0_cscore_6.txt', 'Trained_2chunk_10.0_cscore_5.txt', 'Trained_2chunk_15.0_cscore_4.txt', 'Trained_2chunk_22.0_cscore_3.txt']\n",
        "['Untrained_1chunk_10.0_cscore_9.txt', 'Untrained_1chunk_24.0_cscore_8.txt', 'Untrained_1chunk_34.0_cscore_7.txt', 'Untrained_1chunk_41.0_cscore_6.txt', 'Untrained_1chunk_46.0_cscore_5.txt', 'Untrained_1chunk_49.0_cscore_4.txt', 'Untrained_1chunk_50.0_cscore_3.txt', 'Untrained_1chunk_51.0_cscore_2.txt', 'Untrained_1chunk_52.0_cscore_1.txt']\n",
        "['Untrained_2chunk_2.0_cscore_9.txt', 'Untrained_2chunk_5.0_cscore_8.txt', 'Untrained_2chunk_11.0_cscore_7.txt', 'Untrained_2chunk_18.0_cscore_6.txt', 'Untrained_2chunk_23.0_cscore_5.txt', 'Untrained_2chunk_27.0_cscore_4.txt', 'Untrained_2chunk_33.0_cscore_3.txt', 'Untrained_2chunk_39.0_cscore_2.txt', 'Untrained_2chunk_44.0_cscore_1.txt']\n"
       ]
      }
     ],
     "prompt_number": 10
    },
    {
     "cell_type": "heading",
     "level": 1,
     "metadata": {},
     "source": [
      "Untrained Results"
     ]
    },
    {
     "cell_type": "code",
     "collapsed": false,
     "input": [
      "for trial in untrained_1chunk:\n",
      "        \n",
      "        trial = np.loadtxt( trial )\n",
      "        print trial\n",
      "        \n",
      "        break"
     ],
     "language": "python",
     "metadata": {},
     "outputs": []
    }
   ],
   "metadata": {}
  }
 ]
}