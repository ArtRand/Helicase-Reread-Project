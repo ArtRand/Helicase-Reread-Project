{
 "metadata": {
  "name": "",
  "signature": "sha256:4c518c357fc19cf31041bdaa94824b15dbb7ca09228f50609bd3111d4e3cdfaa"
 },
 "nbformat": 3,
 "nbformat_minor": 0,
 "worksheets": [
  {
   "cells": [
    {
     "cell_type": "code",
     "collapsed": false,
     "input": [
      "%matplotlib inline\n",
      "\n",
      "from matplotlib import pyplot as plt\n",
      "import numpy as np\n",
      "import os\n",
      "\n",
      "## Store Results\n",
      "source = '../Data/Results'\n",
      "for root, dirnames, filenames in os.walk(source):\n",
      "    trials = filenames\n",
      "\n",
      "## Sort Trials:\n",
      "trained_1chunk_mean = sorted([x for x in trials if 'Trained' in x and '1chunk' in x and 'Mean' in x], key=lambda x: x.split('cscore_')[1].split('.txt')[0], reverse=True )\n",
      "trained_2chunk_mean = sorted([x for x in trials if 'Trained' in x and '2chunk' in x and 'Mean' in x], key=lambda x: x.split('cscore_')[1].split('.txt')[0], reverse=True )\n",
      "trained_1chunk_product = sorted([x for x in trials if 'Trained' in x and '1chunk' in x and 'Product' in x], key=lambda x: x.split('cscore_')[1].split('.txt')[0], reverse=True )\n",
      "\n",
      "untrained_1chunk_mean = sorted([x for x in trials if 'Untrained' in x and '1chunk' in x and 'Mean' in x], key=lambda x: x.split('cscore_')[1].split('.txt')[0], reverse=True )\n",
      "untrained_2chunk_mean = sorted([x for x in trials if 'Untrained' in x and '2chunk' in x and 'Mean' in x], key=lambda x: x.split('cscore_')[1].split('.txt')[0], reverse=True )\n",
      "untrained_1chunk_product = sorted([x for x in trials if 'Untrained' in x and '1chunk' in x and 'Product' in x], key=lambda x: x.split('cscore_')[1].split('.txt')[0], reverse=True )\n",
      "\n",
      "untrained_1chunk_fullset = sorted([x for x in trials if 'Untrained' in x and '1chunk' in x and 'Fullset' in x], key=lambda x: x.split('cscore_')[1].split('.txt')[0], reverse=True )\n"
     ],
     "language": "python",
     "metadata": {},
     "outputs": [],
     "prompt_number": 1
    },
    {
     "cell_type": "heading",
     "level": 1,
     "metadata": {},
     "source": [
      "Line Plot Function"
     ]
    },
    {
     "cell_type": "code",
     "collapsed": false,
     "input": [
      "def accuracy_by_filter_score( trial_set ):\n",
      "    \n",
      "    # Convert Groups of arrays into lists of scores by csore.\n",
      "    first, last, random = [], [], []\n",
      "    hmm, best, ind = [], [], []\n",
      "    \n",
      "    for trial_name in trial_set:\n",
      "            \n",
      "            trial = np.loadtxt( '../Data/Results/' + trial_name, delimiter = ',' )\n",
      "            means = np.mean( trial, axis = 0 )\n",
      "            stds = np.std( trial, axis = 0 )\n",
      "            \n",
      "            accuracies = means[::2]\n",
      "            acc_std = stds[::2]\n",
      "            \n",
      "            f,l,r,h,b,i = accuracies\n",
      "            first.append( f ); last.append( l ); random.append( r )\n",
      "            hmm.append( h ) ; best.append( b ); ind.append( i )\n",
      "            \n",
      "            x = [ 0.9, 0.8, 0.7, 0.6, 0.5, 0.4, 0.3, 0.2, 0.1, 0.0 ]\n",
      "            \n",
      "    \n",
      "    plt.plot( x, first, label='first' )\n",
      "    plt.plot( x, last, label='last' ) \n",
      "    plt.plot( x, random, label='random' )\n",
      "    \n",
      "    plt.plot( x, hmm, label='hmm' )\n",
      "    plt.plot( x, best, label='best' )\n",
      "    plt.plot( x, ind, label='ind' )\n",
      "    \n",
      "    plt.title( trial_name.split('_')[0] + ' - ' + trial_name.split('_')[1] \\\n",
      "                + ' - ' + trial_name.split('_')[2] )\n",
      "   \n",
      "    plt.xlabel( 'Chunk Score Cutoff' )\n",
      "    plt.ylabel( 'Accuracy' )\n",
      "    plt.ylim( [0,1.0] )\n",
      "    plt.legend()\n",
      "    plt.gca().invert_xaxis()\n",
      "    plt.show()\n",
      "    \n",
      "#accuracy_by_filter_score( untrained_1chunk_product )\n",
      "#accuracy_by_filter_score( untrained_1chunk_mean )\n",
      "#accuracy_by_filter_score( untrained_2chunk_mean )\n",
      "\n",
      "#accuracy_by_filter_score( trained_1chunk_product )\n",
      "#accuracy_by_filter_score( trained_1chunk_mean )\n",
      "#accuracy_by_filter_score( trained_2chunk_mean )\n"
     ],
     "language": "python",
     "metadata": {},
     "outputs": [],
     "prompt_number": 2
    },
    {
     "cell_type": "heading",
     "level": 1,
     "metadata": {},
     "source": [
      "Individual Trials by Cscore "
     ]
    },
    {
     "cell_type": "code",
     "collapsed": false,
     "input": [
      "def plot_results( trial_set ):\n",
      "    ## Borrowing heavily from: http://matplotlib.org/1.2.1/examples/api/barchart_demo.html\n",
      "    for trial_name in trial_set:\n",
      "        \n",
      "        trial = np.loadtxt( '../Data/Results/' + trial_name, delimiter = ',')\n",
      "        #means = np.mean( trial, axis = 0 )\n",
      "        #stds = np.std( trial, axis = 0 )\n",
      "        \n",
      "        #accuracies = means[::2]\n",
      "        #acc_std = stds[::2]\n",
      "        #softcalls = means[1::2]\n",
      "        #sc_std = stds[1::2]\n",
      "        \n",
      "        accuracies = trial[::2]\n",
      "        softcalls = trial[1::2]\n",
      "        \n",
      "        print accuracies\n",
      "        print softcalls\n",
      "        \n",
      "        N = 6\n",
      "        \n",
      "        ind = np.arange(N)\n",
      "        width = 0.35\n",
      "        \n",
      "        fig = plt.figure()\n",
      "        ax = fig.add_subplot(111)\n",
      "        rects1 = ax.bar( ind, accuracies, width, color='r', yerr=acc_std )\n",
      "        rects2 = ax.bar( ind+width, softcalls, width, color='g', yerr=sc_std )\n",
      "        \n",
      "        ax.set_ylabel( 'Value' )\n",
      "        ax.set_title( trial_name.split('.txt')[0] )\n",
      "        ax.set_xticks(ind+width)\n",
      "        ax.set_xticklabels( ('First', 'Last', 'Random', 'HMM', 'Best', 'Ind' ) )\n",
      "        plt.ylim( [0, 1.0] )\n",
      "        \n",
      "        ax.legend( (rects1[0], rects2[0]), ('Accuracy', 'Softcall') )\n",
      "        \n",
      "        def autolabel(rects):\n",
      "                for rect in rects:\n",
      "                    height = rect.get_height()\n",
      "                    ax.text(rect.get_x()+rect.get_width()*1.0/2., 1.05*height, str(round(height,2)), ha='center', va='bottom')\n",
      "\n",
      "        autolabel(rects1)\n",
      "        autolabel(rects2)\n",
      "        \n",
      "        plt.show()\n"
     ],
     "language": "python",
     "metadata": {},
     "outputs": [],
     "prompt_number": 7
    },
    {
     "cell_type": "heading",
     "level": 1,
     "metadata": {},
     "source": [
      "Untrained - 1 Chunk - Full Set"
     ]
    },
    {
     "cell_type": "code",
     "collapsed": false,
     "input": [
      "plot_results( untrained_1chunk_fullset )"
     ],
     "language": "python",
     "metadata": {},
     "outputs": [
      {
       "output_type": "stream",
       "stream": "stdout",
       "text": [
        "0.699882590173\n",
        "0.0600057650035\n"
       ]
      },
      {
       "ename": "IndexError",
       "evalue": "invalid index to scalar variable.",
       "output_type": "pyerr",
       "traceback": [
        "\u001b[1;31m---------------------------------------------------------------------------\u001b[0m\n\u001b[1;31mIndexError\u001b[0m                                Traceback (most recent call last)",
        "\u001b[1;32m<ipython-input-8-e4f656abec99>\u001b[0m in \u001b[0;36m<module>\u001b[1;34m()\u001b[0m\n\u001b[1;32m----> 1\u001b[1;33m \u001b[0mplot_results\u001b[0m\u001b[1;33m(\u001b[0m \u001b[0muntrained_1chunk_fullset\u001b[0m \u001b[1;33m)\u001b[0m\u001b[1;33m\u001b[0m\u001b[0m\n\u001b[0m",
        "\u001b[1;32m<ipython-input-7-3e0d4406884f>\u001b[0m in \u001b[0;36mplot_results\u001b[1;34m(trial_set)\u001b[0m\n\u001b[0;32m     10\u001b[0m         \u001b[1;32mprint\u001b[0m \u001b[0mstds\u001b[0m\u001b[1;33m\u001b[0m\u001b[0m\n\u001b[0;32m     11\u001b[0m \u001b[1;33m\u001b[0m\u001b[0m\n\u001b[1;32m---> 12\u001b[1;33m         \u001b[0maccuracies\u001b[0m \u001b[1;33m=\u001b[0m \u001b[0mmeans\u001b[0m\u001b[1;33m[\u001b[0m\u001b[1;33m:\u001b[0m\u001b[1;33m:\u001b[0m\u001b[1;36m2\u001b[0m\u001b[1;33m]\u001b[0m\u001b[1;33m\u001b[0m\u001b[0m\n\u001b[0m\u001b[0;32m     13\u001b[0m         \u001b[0macc_std\u001b[0m \u001b[1;33m=\u001b[0m \u001b[0mstds\u001b[0m\u001b[1;33m[\u001b[0m\u001b[1;33m:\u001b[0m\u001b[1;33m:\u001b[0m\u001b[1;36m2\u001b[0m\u001b[1;33m]\u001b[0m\u001b[1;33m\u001b[0m\u001b[0m\n\u001b[0;32m     14\u001b[0m         \u001b[0msoftcalls\u001b[0m \u001b[1;33m=\u001b[0m \u001b[0mmeans\u001b[0m\u001b[1;33m[\u001b[0m\u001b[1;36m1\u001b[0m\u001b[1;33m:\u001b[0m\u001b[1;33m:\u001b[0m\u001b[1;36m2\u001b[0m\u001b[1;33m]\u001b[0m\u001b[1;33m\u001b[0m\u001b[0m\n",
        "\u001b[1;31mIndexError\u001b[0m: invalid index to scalar variable."
       ]
      }
     ],
     "prompt_number": 8
    },
    {
     "cell_type": "heading",
     "level": 1,
     "metadata": {},
     "source": [
      "Untrained - 1 Chunk - Mean Method"
     ]
    },
    {
     "cell_type": "code",
     "collapsed": false,
     "input": [
      "plot_results( untrained_1chunk_mean )"
     ],
     "language": "python",
     "metadata": {},
     "outputs": [
      {
       "output_type": "stream",
       "stream": "stdout",
       "text": [
        "['Untrained_1chunk_Fullset_14.0_cscore_9.txt', 'Untrained_1chunk_Fullset_34.0_cscore_8.txt', 'Untrained_1chunk_Fullset_46.0_cscore_7.txt', 'Untrained_1chunk_Fullset_56.0_cscore_6.txt', 'Untrained_1chunk_Fullset_60.0_cscore_5.txt', 'Untrained_1chunk_Fullset_73.0_cscore_4.txt', 'Untrained_1chunk_Fullset_80.0_cscore_3.txt', 'Untrained_1chunk_Fullset_85.0_cscore_2.txt', 'Untrained_1chunk_Fullset_88.0_cscore_1.txt', 'Untrained_1chunk_Fullset_88.0_cscore_0.txt']\n"
       ]
      }
     ],
     "prompt_number": 5
    },
    {
     "cell_type": "heading",
     "level": 1,
     "metadata": {},
     "source": [
      "Untrained - 2 Chunk - Mean Method"
     ]
    },
    {
     "cell_type": "code",
     "collapsed": false,
     "input": [
      "plot_results( untrained_2chunk_mean )"
     ],
     "language": "python",
     "metadata": {},
     "outputs": []
    },
    {
     "cell_type": "heading",
     "level": 1,
     "metadata": {},
     "source": [
      "Untrained - 1 Chunk - Product Method"
     ]
    },
    {
     "cell_type": "code",
     "collapsed": false,
     "input": [
      "plot_results( untrained_1chunk_product )"
     ],
     "language": "python",
     "metadata": {},
     "outputs": []
    },
    {
     "cell_type": "heading",
     "level": 1,
     "metadata": {},
     "source": [
      "Trained - 1 Chunk - Mean"
     ]
    },
    {
     "cell_type": "code",
     "collapsed": false,
     "input": [
      "plot_results( trained_1chunk_mean )"
     ],
     "language": "python",
     "metadata": {},
     "outputs": []
    },
    {
     "cell_type": "heading",
     "level": 1,
     "metadata": {},
     "source": [
      "Trained - 2 Chunk - Mean"
     ]
    },
    {
     "cell_type": "code",
     "collapsed": false,
     "input": [
      "plot_results( trained_2chunk_mean )"
     ],
     "language": "python",
     "metadata": {},
     "outputs": []
    },
    {
     "cell_type": "heading",
     "level": 1,
     "metadata": {},
     "source": [
      "Trained - 1 Chunk - Product"
     ]
    },
    {
     "cell_type": "code",
     "collapsed": false,
     "input": [
      "plot_results( trained_1chunk_product )"
     ],
     "language": "python",
     "metadata": {},
     "outputs": []
    }
   ],
   "metadata": {}
  }
 ]
}