{
 "metadata": {
  "name": "",
  "signature": "sha256:2e2beeecbfd7ba0a71a73d65e5e788886de42209230629f990030e5ae163eac1"
 },
 "nbformat": 3,
 "nbformat_minor": 0,
 "worksheets": [
  {
   "cells": [
    {
     "cell_type": "heading",
     "level": 1,
     "metadata": {},
     "source": [
      "Exploring Accuracy"
     ]
    },
    {
     "cell_type": "markdown",
     "metadata": {},
     "source": [
      "This notebook was authored by John Vivian (jtvivian@gmail.com)\n",
      "\n",
      "    1. Plot the accuracy of the Label by the BARCODE (by CHUNK score) \n",
      "    2. Plot Accuracy of context by the BARCODE \n",
      "    3. Plot soft-call accuracy \n",
      "    4. Try only states 8,9,10 in accuracy \n",
      "    5. Compare reread accuracy from rereads to single reads"
     ]
    },
    {
     "cell_type": "heading",
     "level": 2,
     "metadata": {},
     "source": [
      "Accuracy Plot of Label given the Barcode "
     ]
    },
    {
     "cell_type": "code",
     "collapsed": false,
     "input": [
      "%matplotlib inline\n",
      "from IPython.display import display, clear_output\n",
      "import sys, os, random, argparse\n",
      "import numpy as np\n",
      "import Methods\n",
      "import seaborn as sns\n",
      "\n",
      "sys.path.append( '../Models' )\n",
      "from Simple_Model import *\n",
      "\n",
      "# Acquire Events\n",
      "source = '../Data/JSON/Final_Train/'\n",
      "for root, dirnames, filenames in os.walk(source):\n",
      "    events = filenames\n",
      "    \n",
      "# Randomize List\n",
      "random.shuffle( events )\n",
      "\n",
      "# Break into 5 equal groups\n",
      "event_groups = [ events[i::5] for i in xrange(5) ]\n",
      "    \n",
      "## 2. For every group: withold and train on other 4. \n",
      "# Create array\n",
      "data = np.zeros( (10, 12) ) \n",
      "\n",
      "## 3. Read in Untrained HMM then train\n",
      "with open ( '../Data/HMMs/Temp_Test.txt', 'r' ) as file:\n",
      "    model = Model.read( file ) \n",
      "#print '\\nTraining HMM: Witholding group {}. Training size {}. Cscore: {}'.format( i+1, len(training), cscore )\n",
      "#model.train( sequences )\n",
      "\n",
      "# Acquire indices\n",
      "indices = { state.name: i for i, state in enumerate( model.states ) }\n",
      "\n",
      "## In order to speed this thing up, assign events to lists by cscore so that\n",
      "## it doesn't need to be done every iteration.\n",
      "ranked_events = {}\n",
      "for i in xrange(10):\n",
      "    ranked_events[i] = []\n",
      "\n",
      "print 'Ranking Events by CHUNK Score'\n",
      "counter = 0\n",
      "for event_name in events:  \n",
      "    counter+=1\n",
      "    # Convert JSON to event\n",
      "    event = Event.from_json( source + event_name )\n",
      "\n",
      "    # Convert event into a list of means\n",
      "    means = [seg['mean'] for seg in event.segments]\n",
      "\n",
      "    # Perform forward_backward algorithm\n",
      "    trans, ems = model.forward_backward( means )\n",
      "\n",
      "    # Partition the event into 'chunks' of context / label regions\n",
      "    contexts, labels = partition_event( indices, event, ems, means)\n",
      "\n",
      "    # Get chunk scores\n",
      "    contexts, labels = chunk_score( indices, contexts, labels, ems )\n",
      "\n",
      "    # Get chunk vector\n",
      "    contexts, labels = chunk_vector( indices, contexts, labels, ems )\n",
      "    if contexts and labels:\n",
      "        max_c = max( [ x[0] for x in contexts ] ) \n",
      "        max_l = max( [ x[0] for x in labels ] )\n",
      "\n",
      "        for i in xrange(9,-1,-1):\n",
      "            if max_c >= i*.10 and max_l >= i*.10:\n",
      "                print 'C:{}\\tL:{}\\tAssigned:{}\\tPercentage:{}%\\r'.format(round(max_c,2), round(max_l,2), i, round((counter*1.0/len(events))*100,2)),\n",
      "                ranked_events[i].append( (event_name, contexts, labels, ems, means) )\n",
      "                break\n",
      "print '\\n'\n",
      "for i in ranked_events:\n",
      "    print i, len(ranked_events[i])\n",
      "\n",
      "## Iterate through the range of cutoff values: \n",
      "cscores = [ 0.9, 0.8, 0.7, 0.6, 0.5, 0.4, 0.3, 0.2, 0.1, 0.0 ]\n",
      "data_counter = 0\n",
      "for cscore in cscores:\n",
      "    ## Keep track of hard calls -- list with 'n' and 'correct'\n",
      "    hard_calls = { 'C': [0, 0], 'mC' : [0,0], 'hmC' : [0,0] }\n",
      "\n",
      "    counters = []\n",
      "    #for i in xrange(1): # 5 for real k-fold\n",
      "    counter = 0\n",
      "\n",
      "    # Bins to hold counts\n",
      "    bins = { 'f': 0, 'l': 0, 'r':0, 'b': 0, 'i': 0, 'h': 0 }                # Counter for hard calls\n",
      "    soft_calls = { 'f': [], 'l': [], 'r':[], 'b': [], 'i': [], 'h': [] }    # Will hold soft calls\n",
      "    \n",
      "    ## For a given cscore, group and iterate through.\n",
      "    event_sum = 0\n",
      "    for i in xrange(9, int(cscore*10-1), -1):\n",
      "        event_sum += len(ranked_events[i])\n",
      "        for event in ranked_events[i]:\n",
      "            # Unpack Variables\n",
      "            event_name = event[0]\n",
      "            contexts = event[1]\n",
      "            labels = event[2]\n",
      "            ems = event[3]\n",
      "            means = event[4]\n",
      "            barcode = event_name.split('-')[0]\n",
      "            # update counter\n",
      "            counter += 1\n",
      "           \n",
      "            ## Single Read Methods\n",
      "            fchunk, fcall = Methods.first_chunk( contexts, labels, cscore )\n",
      "            lchunk, lcall = Methods.last_chunk( contexts, labels, cscore )\n",
      "            rchunk, rcall = Methods.random_chunk( contexts, labels, cscore )\n",
      "            \n",
      "            ## Multi-Read Methods\n",
      "            bchunk, bcall = Methods.best_chunk( contexts, labels )\n",
      "            ichunk, icall = Methods.ind_consensus( contexts, labels, cscore )\n",
      "            hchunk, hcall = Methods.hmm_consensus( indices, ems, len(means), chunk_vector )\n",
      "\n",
      "             # First Chunk\n",
      "            soft_calls['f'].append( fchunk )\n",
      "            if barcode == fcall[1]:\n",
      "                bins['f'] += 1\n",
      "                \n",
      "            # Last Chunk\n",
      "            soft_calls['l'].append( lchunk )\n",
      "            if barcode == lcall[1]:\n",
      "                bins['l'] += 1\n",
      "                \n",
      "            # Random Chunk\n",
      "            soft_calls['r'].append( rchunk )\n",
      "            if barcode == rcall[1]:\n",
      "                bins['r'] += 1\n",
      "            \n",
      "            # Best Chunk\n",
      "            soft_calls['b'].append( bchunk )\n",
      "            if barcode == bcall[1]:\n",
      "                bins['b'] += 1\n",
      "                \n",
      "            # Ind Consensus\n",
      "            soft_calls['i'].append( ichunk )\n",
      "            if barcode == icall[1]:\n",
      "                bins['i'] += 1\n",
      "                \n",
      "            #HMM Consensus\n",
      "            soft_calls['h'].append( hchunk )\n",
      "            if barcode == hcall[1]:\n",
      "                bins['h'] += 1\n",
      "                \n",
      "    j = data_counter\n",
      "    data[j][0] = bins['f']*1.0 / counter\n",
      "    data[j][1] = np.mean(soft_calls['f'])\n",
      "    data[j][2] = bins['l']*1.0 / counter\n",
      "    data[j][3] = np.mean(soft_calls['l'])\n",
      "    data[j][4] = bins['r']*1.0 / counter\n",
      "    data[j][5] = np.mean(soft_calls['r'])\n",
      "    data[j][6] = bins['h']*1.0 / counter\n",
      "    data[j][7] = np.mean(soft_calls['h'])\n",
      "    data[j][8] = bins['b']*1.0 / counter\n",
      "    data[j][9] = np.mean(soft_calls['b'])\n",
      "    data[j][10] = bins['i']*1.0 / counter\n",
      "    data[j][11] = np.mean(soft_calls['i'])\n",
      "    data_counter += 1\n",
      "     "
     ],
     "language": "python",
     "metadata": {},
     "outputs": [
      {
       "output_type": "stream",
       "stream": "stdout",
       "text": [
        "Ranking Events by CHUNK Score\n",
        "C:0.96\tL:0.83\tAssigned:8\tPercentage:0.78%\r"
       ]
      },
      {
       "output_type": "stream",
       "stream": "stdout",
       "text": [
        "C:0.95\tL:0.34\tAssigned:3\tPercentage:1.55%\r",
        "C:0.0\tL:0.15\tAssigned:0\tPercentage:2.33%\r"
       ]
      },
      {
       "output_type": "stream",
       "stream": "stdout",
       "text": [
        "C:0.86\tL:0.65\tAssigned:6\tPercentage:3.1%\r",
        "C:0.95\tL:0.86\tAssigned:8\tPercentage:3.88%\r"
       ]
      },
      {
       "output_type": "stream",
       "stream": "stdout",
       "text": [
        "C:0.0\tL:0.83\tAssigned:0\tPercentage:4.65%\r",
        "C:0.96\tL:0.78\tAssigned:7\tPercentage:5.43%\r"
       ]
      },
      {
       "output_type": "stream",
       "stream": "stdout",
       "text": [
        "C:0.98\tL:0.01\tAssigned:0\tPercentage:6.2%\r",
        "C:0.0\tL:0.82\tAssigned:0\tPercentage:6.98%\r"
       ]
      },
      {
       "output_type": "stream",
       "stream": "stdout",
       "text": [
        "C:0.94\tL:0.93\tAssigned:9\tPercentage:7.75%\r",
        "C:0.98\tL:0.93\tAssigned:9\tPercentage:8.53%\r"
       ]
      },
      {
       "output_type": "stream",
       "stream": "stdout",
       "text": [
        "C:0.98\tL:0.01\tAssigned:0\tPercentage:9.3%\r",
        "C:0.95\tL:0.63\tAssigned:6\tPercentage:10.08%\r"
       ]
      },
      {
       "output_type": "stream",
       "stream": "stdout",
       "text": [
        "C:0.0\tL:0.81\tAssigned:0\tPercentage:10.85%\r",
        "C:0.81\tL:0.86\tAssigned:8\tPercentage:11.63%\r"
       ]
      },
      {
       "output_type": "stream",
       "stream": "stdout",
       "text": [
        "C:0.0\tL:0.68\tAssigned:0\tPercentage:12.4%\r",
        "C:0.97\tL:0.91\tAssigned:9\tPercentage:13.18%\r"
       ]
      },
      {
       "output_type": "stream",
       "stream": "stdout",
       "text": [
        "C:0.89\tL:0.95\tAssigned:8\tPercentage:13.95%\r",
        "C:0.71\tL:0.66\tAssigned:6\tPercentage:14.73%\r"
       ]
      },
      {
       "output_type": "stream",
       "stream": "stdout",
       "text": [
        "C:0.81\tL:0.95\tAssigned:8\tPercentage:15.5%\r",
        "C:0.98\tL:0.94\tAssigned:9\tPercentage:16.28%\r"
       ]
      },
      {
       "output_type": "stream",
       "stream": "stdout",
       "text": [
        "C:0.0\tL:0.32\tAssigned:0\tPercentage:17.05%\r",
        "C:0.97\tL:0.44\tAssigned:4\tPercentage:17.83%\r"
       ]
      },
      {
       "output_type": "stream",
       "stream": "stdout",
       "text": [
        "C:0.97\tL:0.88\tAssigned:8\tPercentage:18.6%\r",
        "C:0.86\tL:0.0\tAssigned:0\tPercentage:19.38%\r"
       ]
      },
      {
       "output_type": "stream",
       "stream": "stdout",
       "text": [
        "C:0.77\tL:0.15\tAssigned:1\tPercentage:20.16%\r",
        "C:0.64\tL:0.0\tAssigned:0\tPercentage:20.93%\r"
       ]
      },
      {
       "output_type": "stream",
       "stream": "stdout",
       "text": [
        "C:0.0\tL:0.69\tAssigned:0\tPercentage:21.71%\r",
        "C:0.0\tL:0.0\tAssigned:0\tPercentage:22.48%\r"
       ]
      },
      {
       "output_type": "stream",
       "stream": "stdout",
       "text": [
        "C:0.0\tL:0.91\tAssigned:0\tPercentage:23.26%\r",
        "C:0.91\tL:0.75\tAssigned:7\tPercentage:24.03%\r"
       ]
      },
      {
       "output_type": "stream",
       "stream": "stdout",
       "text": [
        "C:0.98\tL:0.97\tAssigned:9\tPercentage:24.81%\r",
        "C:0.97\tL:0.97\tAssigned:9\tPercentage:25.58%\r"
       ]
      },
      {
       "output_type": "stream",
       "stream": "stdout",
       "text": [
        "C:0.98\tL:0.86\tAssigned:8\tPercentage:26.36%\r",
        "C:0.91\tL:0.02\tAssigned:0\tPercentage:27.13%\r"
       ]
      },
      {
       "output_type": "stream",
       "stream": "stdout",
       "text": [
        "C:0.72\tL:0.0\tAssigned:0\tPercentage:27.91%\r",
        "C:0.97\tL:0.53\tAssigned:5\tPercentage:28.68%\r"
       ]
      },
      {
       "output_type": "stream",
       "stream": "stdout",
       "text": [
        "C:0.0\tL:0.01\tAssigned:0\tPercentage:29.46%\r",
        "C:0.0\tL:0.97\tAssigned:0\tPercentage:30.23%\r"
       ]
      },
      {
       "output_type": "stream",
       "stream": "stdout",
       "text": [
        "C:0.84\tL:0.93\tAssigned:8\tPercentage:31.01%\r",
        "C:0.0\tL:0.88\tAssigned:0\tPercentage:31.78%\r"
       ]
      },
      {
       "output_type": "stream",
       "stream": "stdout",
       "text": [
        "C:0.88\tL:0.87\tAssigned:8\tPercentage:32.56%\r",
        "C:0.98\tL:0.9\tAssigned:9\tPercentage:33.33%\r"
       ]
      },
      {
       "output_type": "stream",
       "stream": "stdout",
       "text": [
        "C:0.97\tL:0.57\tAssigned:5\tPercentage:34.11%\r",
        "C:0.8\tL:0.65\tAssigned:6\tPercentage:34.88%\r"
       ]
      },
      {
       "output_type": "stream",
       "stream": "stdout",
       "text": [
        "C:0.0\tL:0.95\tAssigned:0\tPercentage:35.66%\r",
        "C:0.84\tL:0.96\tAssigned:8\tPercentage:36.43%\r"
       ]
      },
      {
       "output_type": "stream",
       "stream": "stdout",
       "text": [
        "C:0.0\tL:0.97\tAssigned:0\tPercentage:37.21%\r",
        "C:0.98\tL:0.97\tAssigned:9\tPercentage:37.98%\r"
       ]
      },
      {
       "output_type": "stream",
       "stream": "stdout",
       "text": [
        "C:0.98\tL:0.56\tAssigned:5\tPercentage:38.76%\r",
        "C:0.86\tL:0.04\tAssigned:0\tPercentage:39.53%\r"
       ]
      },
      {
       "output_type": "stream",
       "stream": "stdout",
       "text": [
        "C:0.0\tL:0.77\tAssigned:0\tPercentage:40.31%\r",
        "C:0.96\tL:0.85\tAssigned:8\tPercentage:41.09%\r"
       ]
      },
      {
       "output_type": "stream",
       "stream": "stdout",
       "text": [
        "C:0.96\tL:0.85\tAssigned:8\tPercentage:41.86%\r",
        "C:0.95\tL:0.97\tAssigned:9\tPercentage:42.64%\r"
       ]
      },
      {
       "output_type": "stream",
       "stream": "stdout",
       "text": [
        "C:0.0\tL:0.0\tAssigned:0\tPercentage:43.41%\r",
        "C:0.97\tL:0.9\tAssigned:9\tPercentage:44.19%\r"
       ]
      },
      {
       "output_type": "stream",
       "stream": "stdout",
       "text": [
        "C:0.95\tL:0.89\tAssigned:8\tPercentage:44.96%\r",
        "C:0.85\tL:0.77\tAssigned:7\tPercentage:45.74%\r"
       ]
      },
      {
       "output_type": "stream",
       "stream": "stdout",
       "text": [
        "C:0.93\tL:0.71\tAssigned:7\tPercentage:46.51%\r",
        "C:0.0\tL:0.26\tAssigned:0\tPercentage:47.29%\r"
       ]
      },
      {
       "output_type": "stream",
       "stream": "stdout",
       "text": [
        "C:0.85\tL:0.91\tAssigned:8\tPercentage:48.06%\r",
        "C:0.83\tL:0.86\tAssigned:8\tPercentage:48.84%\r"
       ]
      },
      {
       "output_type": "stream",
       "stream": "stdout",
       "text": [
        "C:0.98\tL:0.91\tAssigned:9\tPercentage:49.61%\r",
        "C:0.96\tL:0.01\tAssigned:0\tPercentage:50.39%\r"
       ]
      },
      {
       "output_type": "stream",
       "stream": "stdout",
       "text": [
        "C:0.76\tL:0.64\tAssigned:6\tPercentage:51.16%\r",
        "C:0.86\tL:0.96\tAssigned:8\tPercentage:51.94%\r"
       ]
      },
      {
       "output_type": "stream",
       "stream": "stdout",
       "text": [
        "C:0.0\tL:0.85\tAssigned:0\tPercentage:52.71%\r",
        "C:0.75\tL:0.97\tAssigned:7\tPercentage:53.49%\r"
       ]
      },
      {
       "output_type": "stream",
       "stream": "stdout",
       "text": [
        "C:0.93\tL:0.89\tAssigned:8\tPercentage:54.26%\r",
        "C:0.0\tL:0.09\tAssigned:0\tPercentage:55.04%\r"
       ]
      },
      {
       "output_type": "stream",
       "stream": "stdout",
       "text": [
        "C:0.97\tL:0.85\tAssigned:8\tPercentage:55.81%\r",
        "C:0.97\tL:0.82\tAssigned:8\tPercentage:56.59%\r"
       ]
      },
      {
       "output_type": "stream",
       "stream": "stdout",
       "text": [
        "C:0.0\tL:0.88\tAssigned:0\tPercentage:57.36%\r",
        "C:0.98\tL:0.86\tAssigned:8\tPercentage:58.14%\r"
       ]
      },
      {
       "output_type": "stream",
       "stream": "stdout",
       "text": [
        "C:0.82\tL:0.82\tAssigned:8\tPercentage:58.91%\r",
        "C:0.0\tL:0.78\tAssigned:0\tPercentage:59.69%\r"
       ]
      },
      {
       "output_type": "stream",
       "stream": "stdout",
       "text": [
        "C:0.0\tL:0.0\tAssigned:0\tPercentage:60.47%\r",
        "C:0.98\tL:0.74\tAssigned:7\tPercentage:61.24%\r"
       ]
      },
      {
       "output_type": "stream",
       "stream": "stdout",
       "text": [
        "C:0.9\tL:0.97\tAssigned:9\tPercentage:62.02%\r",
        "C:0.98\tL:0.88\tAssigned:8\tPercentage:62.79%\r"
       ]
      },
      {
       "output_type": "stream",
       "stream": "stdout",
       "text": [
        "C:0.42\tL:0.02\tAssigned:0\tPercentage:63.57%\r",
        "C:0.97\tL:0.49\tAssigned:4\tPercentage:64.34%\r"
       ]
      },
      {
       "output_type": "stream",
       "stream": "stdout",
       "text": [
        "C:0.85\tL:0.77\tAssigned:7\tPercentage:65.12%\r",
        "C:0.85\tL:0.86\tAssigned:8\tPercentage:65.89%\r"
       ]
      },
      {
       "output_type": "stream",
       "stream": "stdout",
       "text": [
        "C:0.0\tL:0.01\tAssigned:0\tPercentage:66.67%\r",
        "C:0.96\tL:0.48\tAssigned:4\tPercentage:67.44%\r"
       ]
      },
      {
       "output_type": "stream",
       "stream": "stdout",
       "text": [
        "C:0.96\tL:0.6\tAssigned:6\tPercentage:68.22%\r",
        "C:0.83\tL:0.86\tAssigned:8\tPercentage:68.99%\r"
       ]
      },
      {
       "output_type": "stream",
       "stream": "stdout",
       "text": [
        "C:0.77\tL:0.0\tAssigned:0\tPercentage:69.77%\r",
        "C:0.98\tL:0.98\tAssigned:9\tPercentage:70.54%\r"
       ]
      },
      {
       "output_type": "stream",
       "stream": "stdout",
       "text": [
        "C:0.94\tL:0.49\tAssigned:4\tPercentage:71.32%\r",
        "C:0.82\tL:0.97\tAssigned:8\tPercentage:72.09%\r"
       ]
      },
      {
       "output_type": "stream",
       "stream": "stdout",
       "text": [
        "C:0.79\tL:0.67\tAssigned:6\tPercentage:72.87%\r",
        "C:0.98\tL:0.97\tAssigned:9\tPercentage:73.64%\r"
       ]
      },
      {
       "output_type": "stream",
       "stream": "stdout",
       "text": [
        "C:0.0\tL:0.0\tAssigned:0\tPercentage:74.42%\r",
        "C:0.95\tL:0.7\tAssigned:7\tPercentage:75.19%\r"
       ]
      },
      {
       "output_type": "stream",
       "stream": "stdout",
       "text": [
        "C:0.95\tL:0.96\tAssigned:9\tPercentage:75.97%\r",
        "C:0.65\tL:0.58\tAssigned:5\tPercentage:76.74%\r"
       ]
      },
      {
       "output_type": "stream",
       "stream": "stdout",
       "text": [
        "C:0.88\tL:0.78\tAssigned:7\tPercentage:77.52%\r",
        "C:0.17\tL:0.69\tAssigned:1\tPercentage:78.29%\r"
       ]
      },
      {
       "output_type": "stream",
       "stream": "stdout",
       "text": [
        "C:0.0\tL:0.0\tAssigned:0\tPercentage:79.07%\r",
        "C:0.97\tL:0.56\tAssigned:5\tPercentage:79.84%\r",
        "C:0.98\tL:0.97\tAssigned:9\tPercentage:80.62%\r"
       ]
      },
      {
       "output_type": "stream",
       "stream": "stdout",
       "text": [
        "C:0.85\tL:0.67\tAssigned:6\tPercentage:81.4%\r",
        "C:0.0\tL:0.76\tAssigned:0\tPercentage:82.17%\r"
       ]
      },
      {
       "output_type": "stream",
       "stream": "stdout",
       "text": [
        "C:0.9\tL:0.98\tAssigned:9\tPercentage:82.95%\r",
        "C:0.99\tL:0.98\tAssigned:9\tPercentage:83.72%\r"
       ]
      },
      {
       "output_type": "stream",
       "stream": "stdout",
       "text": [
        "C:0.98\tL:0.0\tAssigned:0\tPercentage:84.5%\r",
        "C:0.0\tL:0.71\tAssigned:0\tPercentage:85.27%\r"
       ]
      },
      {
       "output_type": "stream",
       "stream": "stdout",
       "text": [
        "C:0.97\tL:0.0\tAssigned:0\tPercentage:86.05%\r",
        "C:0.97\tL:0.67\tAssigned:6\tPercentage:86.82%\r"
       ]
      },
      {
       "output_type": "stream",
       "stream": "stdout",
       "text": [
        "C:0.98\tL:0.68\tAssigned:6\tPercentage:87.6%\r",
        "C:0.0\tL:0.64\tAssigned:0\tPercentage:88.37%\r"
       ]
      },
      {
       "output_type": "stream",
       "stream": "stdout",
       "text": [
        "C:0.96\tL:0.96\tAssigned:9\tPercentage:89.15%\r",
        "C:0.68\tL:0.27\tAssigned:2\tPercentage:89.92%\r"
       ]
      },
      {
       "output_type": "stream",
       "stream": "stdout",
       "text": [
        "C:0.78\tL:0.21\tAssigned:2\tPercentage:90.7%\r",
        "C:0.05\tL:0.93\tAssigned:0\tPercentage:91.47%\r"
       ]
      },
      {
       "output_type": "stream",
       "stream": "stdout",
       "text": [
        "C:0.0\tL:0.86\tAssigned:0\tPercentage:92.25%\r",
        "C:0.88\tL:0.95\tAssigned:8\tPercentage:93.02%\r"
       ]
      },
      {
       "output_type": "stream",
       "stream": "stdout",
       "text": [
        "C:0.0\tL:0.97\tAssigned:0\tPercentage:93.8%\r",
        "C:0.97\tL:0.9\tAssigned:9\tPercentage:94.57%\r"
       ]
      },
      {
       "output_type": "stream",
       "stream": "stdout",
       "text": [
        "C:0.97\tL:0.44\tAssigned:4\tPercentage:95.35%\r",
        "C:0.98\tL:0.79\tAssigned:7\tPercentage:96.12%\r"
       ]
      },
      {
       "output_type": "stream",
       "stream": "stdout",
       "text": [
        "C:0.94\tL:0.96\tAssigned:9\tPercentage:96.9%\r",
        "C:0.79\tL:0.9\tAssigned:7\tPercentage:97.67%\r"
       ]
      },
      {
       "output_type": "stream",
       "stream": "stdout",
       "text": [
        "C:0.97\tL:0.68\tAssigned:6\tPercentage:98.45%\r",
        "C:0.97\tL:0.9\tAssigned:8\tPercentage:99.22%\r"
       ]
      },
      {
       "output_type": "stream",
       "stream": "stdout",
       "text": [
        "C:0.0\tL:0.92\tAssigned:0\tPercentage:100.0%\r\n",
        "\n",
        "0 44\n",
        "1 2\n",
        "2 2\n",
        "3 1\n",
        "4 5\n",
        "5 5\n",
        "6 11\n",
        "7 11\n",
        "8 27\n",
        "9 21\n"
       ]
      }
     ],
     "prompt_number": 41
    },
    {
     "cell_type": "code",
     "collapsed": false,
     "input": [
      "accuracy_by_filter_score( data, 'Label Accuracy by Chunk Score' )"
     ],
     "language": "python",
     "metadata": {},
     "outputs": [
      {
       "metadata": {},
       "output_type": "display_data",
       "png": "[encoded data removed]",
       "text": [
        "<matplotlib.figure.Figure at 0x18e88f60>"
       ]
      }
     ],
     "prompt_number": 42
    },
    {
     "cell_type": "heading",
     "level": 2,
     "metadata": {},
     "source": [
      "Accuray of Context by Barcode"
     ]
    },
    {
     "cell_type": "code",
     "collapsed": false,
     "input": [
      "data_counter = 0\n",
      "for cscore in cscores:\n",
      "    #print '\\nCscore:{}\\n'.format(cscore)\n",
      "   \n",
      "    # Counters\n",
      "    counters = []\n",
      "    counter = 0\n",
      "    \n",
      "    # Bins to hold counts\n",
      "    bins = { 'f': 0, 'l': 0, 'r':0, 'b': 0, 'i': 0, 'h': 0 }                # Counter for hard calls\n",
      "    soft_calls = { 'f': [], 'l': [], 'r':[], 'b': [], 'i': [], 'h': [] }    # Will hold soft calls\n",
      "    \n",
      "    ## For a given cscore, group and iterate through.\n",
      "    event_sum = 0\n",
      "    for i in xrange(9, int(cscore*10-1), -1):\n",
      "        event_sum += len(ranked_events[i])\n",
      "        for event in ranked_events[i]:\n",
      "            \n",
      "            # Unpack Variables\n",
      "            event_name = event[0]\n",
      "            contexts = event[1]\n",
      "            labels = event[2]\n",
      "            ems = event[3]\n",
      "            means = event[4]\n",
      "            barcode = event_name.split('-')[0]\n",
      "            # update counter\n",
      "            counter += 1\n",
      "           \n",
      "            ## Single Read Methods\n",
      "            fchunk, fcall = Methods.first_chunk( contexts, labels, cscore )\n",
      "            lchunk, lcall = Methods.last_chunk( contexts, labels, cscore )\n",
      "            rchunk, rcall = Methods.random_chunk( contexts, labels, cscore )\n",
      "            \n",
      "            ## Multi-Read Methods\n",
      "            bchunk, bcall = Methods.best_chunk( contexts, labels )\n",
      "            ichunk, icall = Methods.ind_consensus( contexts, labels, cscore )\n",
      "            hchunk, hcall = Methods.hmm_consensus( indices, ems, len(means), chunk_vector )\n",
      "\n",
      "             # First Chunk\n",
      "            soft_calls['f'].append( fchunk )\n",
      "            if barcode == fcall[0]:\n",
      "                bins['f'] += 1\n",
      "                \n",
      "            # Last Chunk\n",
      "            soft_calls['l'].append( lchunk )\n",
      "            if barcode == lcall[0]:\n",
      "                bins['l'] += 1\n",
      "                \n",
      "            # Random Chunk\n",
      "            soft_calls['r'].append( rchunk )\n",
      "            if barcode == rcall[0]:\n",
      "                bins['r'] += 1\n",
      "            \n",
      "            # Best Chunk\n",
      "            soft_calls['b'].append( bchunk )\n",
      "            if barcode == bcall[0]:\n",
      "                bins['b'] += 1\n",
      "                \n",
      "            # Ind Consensus\n",
      "            soft_calls['i'].append( ichunk )\n",
      "            if barcode == icall[0]:\n",
      "                bins['i'] += 1\n",
      "            #print 'Context_hc: {}\\tBarcode: {}\\tEvent_Name:{}'.format( icall[0], barcode, event_name )\n",
      "                \n",
      "            #HMM Consensus\n",
      "            soft_calls['h'].append( hchunk )\n",
      "            if barcode == hcall[0]:\n",
      "                bins['h'] += 1\n",
      "                \n",
      "    j = data_counter\n",
      "    data[j][0] = bins['f']*1.0 / counter\n",
      "    data[j][1] = np.mean(soft_calls['f'])\n",
      "    data[j][2] = bins['l']*1.0 / counter\n",
      "    data[j][3] = np.mean(soft_calls['l'])\n",
      "    data[j][4] = bins['r']*1.0 / counter\n",
      "    data[j][5] = np.mean(soft_calls['r'])\n",
      "    data[j][6] = bins['h']*1.0 / counter\n",
      "    data[j][7] = np.mean(soft_calls['h'])\n",
      "    data[j][8] = bins['b']*1.0 / counter\n",
      "    data[j][9] = np.mean(soft_calls['b'])\n",
      "    data[j][10] = bins['i']*1.0 / counter\n",
      "    data[j][11] = np.mean(soft_calls['i'])\n",
      "    data_counter += 1\n",
      "    \n"
     ],
     "language": "python",
     "metadata": {},
     "outputs": [],
     "prompt_number": 43
    },
    {
     "cell_type": "code",
     "collapsed": false,
     "input": [
      "accuracy_by_filter_score( data, 'Accuracy of Context Chunk by Barcode -- Old \"Test HMM\"' )"
     ],
     "language": "python",
     "metadata": {},
     "outputs": [
      {
       "metadata": {},
       "output_type": "display_data",
       "png": "[encoded data removed]",
       "text": [
        "<matplotlib.figure.Figure at 0x18e836a0>"
       ]
      }
     ],
     "prompt_number": 44
    },
    {
     "cell_type": "heading",
     "level": 2,
     "metadata": {},
     "source": [
      "Plot Soft-Call Accuracy "
     ]
    },
    {
     "cell_type": "code",
     "collapsed": false,
     "input": [
      "accuracy_by_filter_score( data, 'Soft-Call Accuracy of Context by Barcode', sc=True )"
     ],
     "language": "python",
     "metadata": {},
     "outputs": [
      {
       "metadata": {},
       "output_type": "display_data",
       "png": "[encoded data removed]",
       "text": [
        "<matplotlib.figure.Figure at 0x18e08ac8>"
       ]
      }
     ],
     "prompt_number": 45
    },
    {
     "cell_type": "heading",
     "level": 2,
     "metadata": {},
     "source": [
      "Compare Reread Accuracy between Single Reads and Rereads"
     ]
    },
    {
     "cell_type": "code",
     "collapsed": false,
     "input": [
      "# Rank Events by CHUNK Score\n",
      "ranked_events = {}\n",
      "for i in xrange(10):\n",
      "    ranked_events[i] = []\n",
      "\n",
      "print 'Ranking Events by CHUNK Score'\n",
      "counter = 0\n",
      "for event_name in events:  \n",
      "    counter+=1\n",
      "    # Convert JSON to event\n",
      "    event = Event.from_json( source + event_name )\n",
      "\n",
      "    # Convert event into a list of means\n",
      "    means = [seg['mean'] for seg in event.segments]\n",
      "\n",
      "    # Perform forward_backward algorithm\n",
      "    trans, ems = model.forward_backward( means )\n",
      "\n",
      "    # Partition the event into 'chunks' of context / label regions\n",
      "    contexts, labels = partition_event( indices, event, ems, means)\n",
      "\n",
      "    # Get chunk scores\n",
      "    contexts, labels = chunk_score( indices, contexts, labels, ems )\n",
      "\n",
      "    # Get chunk vector\n",
      "    contexts, labels = chunk_vector( indices, contexts, labels, ems )\n",
      "    \n",
      "    if contexts and labels:\n",
      "        max_c = max( [ x[0] for x in contexts ] ) \n",
      "        max_l = max( [ x[0] for x in labels ] )\n",
      "        \n",
      "        for i in xrange(9,-1,-1):\n",
      "            if max_c >= i*.10 and max_l >= i*.10:\n",
      "                C = [ x for x in contexts if x[0] >= i*.10 ]\n",
      "                L = [ x for x in labels if x[0] >= i*.10 ]\n",
      "                clear_output(wait=True)\n",
      "                print 'C:{}\\t\\tAssigned:{}\\tPercentage:{}%'.format(round(max_c,2), i, round((counter*1.0/len(events))*100,2))\n",
      "                sys.stdout.flush()\n",
      "                if len(C) > 1:\n",
      "                    multi=True\n",
      "                    ranked_events[i].append( (event_name, contexts, labels, multi, ems, means) )\n",
      "                else:\n",
      "                    multi=False\n",
      "                    ranked_events[i].append( (event_name, contexts, labels, multi, ems, means) )\n",
      "                break\n",
      "#print '\\n'\n",
      "#for i in ranked_events:\n",
      "    #print 'cscore:{} to {}\\t# of Events:{}'.format(i*.10, (i+1)*.10, len(ranked_events[i]))\n",
      "\n",
      "# Create array\n",
      "#data_sr =  \n",
      "#data_mr = )\n",
      "data = { 'data_sr': np.zeros( (10, 12) ), 'data_mr': np.zeros( (10, 12) ) }\n",
      "\n",
      "## Iterate through the range of cutoff values: \n",
      "cscores = [ 0.9, 0.8, 0.7, 0.6, 0.5, 0.4, 0.3, 0.2, 0.1, 0.0 ]\n",
      "data_counter = 0\n",
      "for cscore in cscores:\n",
      "   \n",
      "    confusion = {'cm_sr': np.zeros( (3,3) ), 'cm_mr': np.zeros( ( 3,3) ) } # C, mC, hmC\n",
      "    cm_choice = ['C', 'mC', 'hmC' ] # Acts as index for confusion matrix update\n",
      "    # Counters\n",
      "    counters = []\n",
      "    counter_mr = 0\n",
      "    counter_sr = 0\n",
      "    cm_sr_counter = [ 0, 0, 0 ] # C, mC, hmC\n",
      "    cm_mr_counter = [ 0, 0, 0 ] # C, mC, hmC\n",
      "    \n",
      "    # Bins to hold counts\n",
      "    bins_sr = { 'f': 0, 'l': 0, 'r':0, 'b': 0, 'i': 0, 'h': 0 }\n",
      "    bins_mr = { 'f': 0, 'l': 0, 'r':0, 'b': 0, 'i': 0, 'h': 0 } # Counter for hard calls\n",
      "    soft_calls = { 'f': [], 'l': [], 'r':[], 'b': [], 'i': [], 'h': [] }    # Will hold soft calls\n",
      "    \n",
      "    ## For a given cscore, group and iterate through.\n",
      "    event_sum = 0\n",
      "    for i in xrange(9, int(cscore*10-1), -1):\n",
      "        event_sum += len(ranked_events[i])\n",
      "        for event in ranked_events[i]:\n",
      "            \n",
      "            # Unpack Variables\n",
      "            event_name = event[0]\n",
      "            contexts = event[1]\n",
      "            labels = event[2]\n",
      "            multi = event[3]\n",
      "            ems = event[4]\n",
      "            means = event[5]\n",
      "            \n",
      "            barcode = event_name.split('-')[0]\n",
      "           \n",
      "            def run_methods(bins, cm, cm_counter ):\n",
      "            \n",
      "                ## Single Read Methods\n",
      "                fchunk, fcall = Methods.first_chunk( contexts, labels, cscore )\n",
      "                lchunk, lcall = Methods.last_chunk( contexts, labels, cscore )\n",
      "                rchunk, rcall = Methods.random_chunk( contexts, labels, cscore )\n",
      "\n",
      "                ## Multi-Read Methods\n",
      "                bchunk, bcall = Methods.best_chunk( contexts, labels )\n",
      "                ichunk, icall = Methods.ind_consensus( contexts, labels, cscore )\n",
      "                hchunk, hcall = Methods.hmm_consensus( indices, ems, len(means), chunk_vector )\n",
      "\n",
      "                 # First Chunk\n",
      "                soft_calls['f'].append( fchunk )\n",
      "                if barcode == fcall[0]:\n",
      "                    bins['f'] += 1\n",
      "\n",
      "                # Last Chunk\n",
      "                soft_calls['l'].append( lchunk )\n",
      "                if barcode == lcall[0]:\n",
      "                    bins['l'] += 1\n",
      "\n",
      "                # Random Chunk\n",
      "                soft_calls['r'].append( rchunk )\n",
      "                if barcode == rcall[0]:\n",
      "                    bins['r'] += 1\n",
      "\n",
      "                # Best Chunk\n",
      "                soft_calls['b'].append( bchunk )\n",
      "                if barcode == bcall[0]:\n",
      "                    bins['b'] += 1\n",
      "\n",
      "                #HMM Consensus\n",
      "                soft_calls['h'].append( hchunk )\n",
      "                if barcode == hcall[0]:\n",
      "                    bins['h'] += 1\n",
      "                    \n",
      "                # Ind Consensus\n",
      "                soft_calls['i'].append( ichunk )\n",
      "                if barcode == icall[0]:\n",
      "                    bins['i'] += 1\n",
      "                \n",
      "                ## Confusion Matrix\n",
      "                cm_counter[ cm_choice.index( barcode) ] += 1 # Update appropriate counter\n",
      "                cm[ cm_choice.index( barcode ), cm_choice.index( icall[0] ) ] += 1 # Updates correct row given bar code\n",
      "                \n",
      "                    \n",
      "                    \n",
      "            if multi:\n",
      "                run_methods(bins_mr, confusion['cm_mr'], cm_mr_counter )\n",
      "                # update counter\n",
      "                counter_mr += 1\n",
      "            else:\n",
      "                run_methods(bins_sr, confusion['cm_sr'], cm_sr_counter)\n",
      "                counter_sr += 1\n",
      "    \n",
      "    print '# of MR events:{}\\t# of SR events:{}\\tcsore:{}'.format( counter_mr, counter_sr, cscore )\n",
      "    j = data_counter\n",
      "    for i in data:\n",
      "        if i == 'data_mr':\n",
      "            data[i][j][0] = bins_mr['f']*1.0 / counter_mr\n",
      "            data[i][j][1] = np.mean(soft_calls['f'])\n",
      "            data[i][j][2] = bins_mr['l']*1.0 / counter_mr\n",
      "            data[i][j][3] = np.mean(soft_calls['l'])\n",
      "            data[i][j][4] = bins_mr['r']*1.0 / counter_mr\n",
      "            data[i][j][5] = np.mean(soft_calls['r'])\n",
      "            data[i][j][6] = bins_mr['h']*1.0 / counter_mr\n",
      "            data[i][j][7] = np.mean(soft_calls['h'])\n",
      "            data[i][j][8] = bins_mr['b']*1.0 / counter_mr\n",
      "            data[i][j][9] = np.mean(soft_calls['b'])\n",
      "            data[i][j][10] = bins_mr['i']*1.0 / counter_mr\n",
      "            data[i][j][11] = np.mean(soft_calls['i'])\n",
      "            \n",
      "            ## CM\n",
      "            for i in xrange(3):\n",
      "                confusion['cm_mr'][i] /= cm_mr_counter[i]\n",
      "            print '-=Multi-Read Confusion Matrix=-'\n",
      "            print 'C:{}\\tmC:{}\\thmC:{}'.format( cm_mr_counter[0], cm_mr_counter[1], cm_mr_counter[2] )\n",
      "            print 'C\\tmC\\thmC\\n{}'.format( confusion['cm_mr'] )\n",
      "            \n",
      "        else:\n",
      "            data[i][j][0] = bins_sr['f']*1.0 / counter_sr\n",
      "            data[i][j][1] = np.mean(soft_calls['f'])\n",
      "            data[i][j][2] = bins_sr['l']*1.0 / counter_sr\n",
      "            data[i][j][3] = np.mean(soft_calls['l'])\n",
      "            data[i][j][4] = bins_sr['r']*1.0 / counter_sr\n",
      "            data[i][j][5] = np.mean(soft_calls['r'])\n",
      "            data[i][j][6] = bins_sr['h']*1.0 / counter_sr\n",
      "            data[i][j][7] = np.mean(soft_calls['h'])\n",
      "            data[i][j][8] = bins_sr['b']*1.0 / counter_sr\n",
      "            data[i][j][9] = np.mean(soft_calls['b'])\n",
      "            data[i][j][10] = bins_sr['i']*1.0 / counter_sr\n",
      "            data[i][j][11] = np.mean(soft_calls['i'])\n",
      "            \n",
      "            ## CM\n",
      "            for i in xrange(3):\n",
      "               confusion['cm_sr'][i] /= cm_sr_counter[i]\n",
      "            #print cm_sr_counter, '\\n', confusion['cm_sr']\n",
      "            print '-=Single-Read Confusion Matrix=-'\n",
      "            print 'C:{}\\tmC:{}\\thmC:{}'.format( cm_sr_counter[0], cm_sr_counter[1], cm_sr_counter[2] )\n",
      "            print 'C\\tmC\\thmC\\n{}'.format( confusion['cm_sr'] )\n",
      "            \n",
      "    data_counter += 1"
     ],
     "language": "python",
     "metadata": {},
     "outputs": [
      {
       "output_type": "stream",
       "stream": "stdout",
       "text": [
        "C:0.0\t\tAssigned:0\tPercentage:100.0%\n"
       ]
      },
      {
       "output_type": "stream",
       "stream": "stdout",
       "text": [
        "# of MR events:5\t# of SR events:16\tcsore:0.9\n",
        "-=Multi-Read Confusion Matrix=-\n",
        "C:3\tmC:2\thmC:0\n",
        "C\tmC\thmC\n",
        "[[ 1.   0.   0. ]\n",
        " [ 0.5  0.5  0. ]\n",
        " [ nan  nan  nan]]\n",
        "-=Single-Read Confusion Matrix=-\n",
        "C:13\tmC:3\thmC:0\n",
        "C\tmC\thmC\n",
        "[[ 0.61538462  0.23076923  0.15384615]\n",
        " [ 0.          1.          0.        ]\n",
        " [        nan         nan         nan]]\n",
        "# of MR events:11\t# of SR events:37\tcsore:0.8"
       ]
      },
      {
       "output_type": "stream",
       "stream": "stdout",
       "text": [
        "\n",
        "-=Multi-Read Confusion Matrix=-\n",
        "C:5\tmC:5\thmC:1\n",
        "C\tmC\thmC\n",
        "[[ 1.   0.   0. ]\n",
        " [ 0.2  0.8  0. ]\n",
        " [ 0.   0.   1. ]]\n",
        "-=Single-Read Confusion Matrix=-\n",
        "C:18\tmC:12\thmC:7\n",
        "C\tmC\thmC\n",
        "[[ 0.72222222  0.16666667  0.11111111]\n",
        " [ 0.16666667  0.83333333  0.        ]\n",
        " [ 0.          0.          1.        ]]\n",
        "# of MR events:12\t# of SR events:47\tcsore:0.7"
       ]
      },
      {
       "output_type": "stream",
       "stream": "stdout",
       "text": [
        "\n",
        "-=Multi-Read Confusion Matrix=-\n",
        "C:5\tmC:6\thmC:1\n",
        "C\tmC\thmC\n",
        "[[ 1.          0.          0.        ]\n",
        " [ 0.16666667  0.83333333  0.        ]\n",
        " [ 0.          0.          1.        ]]\n",
        "-=Single-Read Confusion Matrix=-\n",
        "C:19\tmC:17\thmC:11\n",
        "C\tmC\thmC\n",
        "[[ 0.78947368  0.10526316  0.10526316]\n",
        " [ 0.11764706  0.88235294  0.        ]\n",
        " [ 0.09090909  0.          0.90909091]]\n",
        "# of MR events:14\t# of SR events:56\tcsore:0.6"
       ]
      },
      {
       "output_type": "stream",
       "stream": "stdout",
       "text": [
        "\n",
        "-=Multi-Read Confusion Matrix=-\n",
        "C:6\tmC:7\thmC:1\n",
        "C\tmC\thmC\n",
        "[[ 0.83333333  0.16666667  0.        ]\n",
        " [ 0.14285714  0.85714286  0.        ]\n",
        " [ 0.          0.          1.        ]]\n",
        "-=Single-Read Confusion Matrix=-\n",
        "C:22\tmC:18\thmC:16\n",
        "C\tmC\thmC\n",
        "[[ 0.81818182  0.09090909  0.09090909]\n",
        " [ 0.16666667  0.83333333  0.        ]\n",
        " [ 0.1875      0.          0.8125    ]]\n",
        "# of MR events:16\t# of SR events:59\tcsore:0.5"
       ]
      },
      {
       "output_type": "stream",
       "stream": "stdout",
       "text": [
        "\n",
        "-=Multi-Read Confusion Matrix=-\n",
        "C:6\tmC:9\thmC:1\n",
        "C\tmC\thmC\n",
        "[[ 0.83333333  0.16666667  0.        ]\n",
        " [ 0.22222222  0.77777778  0.        ]\n",
        " [ 0.          0.          1.        ]]\n",
        "-=Single-Read Confusion Matrix=-\n",
        "C:22\tmC:20\thmC:17\n",
        "C\tmC\thmC\n",
        "[[ 0.81818182  0.09090909  0.09090909]\n",
        " [ 0.25        0.75        0.        ]\n",
        " [ 0.23529412  0.          0.76470588]]\n",
        "# of MR events:16\t# of SR events:64\tcsore:0.4"
       ]
      },
      {
       "output_type": "stream",
       "stream": "stdout",
       "text": [
        "\n",
        "-=Multi-Read Confusion Matrix=-\n",
        "C:6\tmC:9\thmC:1\n",
        "C\tmC\thmC\n",
        "[[ 0.83333333  0.16666667  0.        ]\n",
        " [ 0.22222222  0.77777778  0.        ]\n",
        " [ 0.          0.          1.        ]]\n",
        "-=Single-Read Confusion Matrix=-\n",
        "C:23\tmC:24\thmC:17\n",
        "C\tmC\thmC\n",
        "[[ 0.82608696  0.08695652  0.08695652]\n",
        " [ 0.29166667  0.70833333  0.        ]\n",
        " [ 0.23529412  0.          0.76470588]]\n",
        "# of MR events:16\t# of SR events:65\tcsore:0.3"
       ]
      },
      {
       "output_type": "stream",
       "stream": "stdout",
       "text": [
        "\n",
        "-=Multi-Read Confusion Matrix=-\n",
        "C:6\tmC:9\thmC:1\n",
        "C\tmC\thmC\n",
        "[[ 0.83333333  0.16666667  0.        ]\n",
        " [ 0.22222222  0.77777778  0.        ]\n",
        " [ 0.          0.          1.        ]]\n",
        "-=Single-Read Confusion Matrix=-\n",
        "C:23\tmC:25\thmC:17\n",
        "C\tmC\thmC\n",
        "[[ 0.82608696  0.08695652  0.08695652]\n",
        " [ 0.32        0.68        0.        ]\n",
        " [ 0.23529412  0.          0.76470588]]\n",
        "# of MR events:17\t# of SR events:66\tcsore:0.2"
       ]
      },
      {
       "output_type": "stream",
       "stream": "stdout",
       "text": [
        "\n",
        "-=Multi-Read Confusion Matrix=-\n",
        "C:6\tmC:9\thmC:2\n",
        "C\tmC\thmC\n",
        "[[ 0.83333333  0.16666667  0.        ]\n",
        " [ 0.22222222  0.77777778  0.        ]\n",
        " [ 0.          0.          1.        ]]\n",
        "-=Single-Read Confusion Matrix=-\n",
        "C:23\tmC:26\thmC:17\n",
        "C\tmC\thmC\n",
        "[[ 0.82608696  0.08695652  0.08695652]\n",
        " [ 0.30769231  0.65384615  0.03846154]\n",
        " [ 0.23529412  0.          0.76470588]]\n",
        "# of MR events:17\t# of SR events:68\tcsore:0.1"
       ]
      },
      {
       "output_type": "stream",
       "stream": "stdout",
       "text": [
        "\n",
        "-=Multi-Read Confusion Matrix=-\n",
        "C:6\tmC:9\thmC:2\n",
        "C\tmC\thmC\n",
        "[[ 0.83333333  0.16666667  0.        ]\n",
        " [ 0.22222222  0.77777778  0.        ]\n",
        " [ 0.          0.          1.        ]]\n",
        "-=Single-Read Confusion Matrix=-\n",
        "C:24\tmC:26\thmC:18\n",
        "C\tmC\thmC\n",
        "[[ 0.83333333  0.08333333  0.08333333]\n",
        " [ 0.30769231  0.65384615  0.03846154]\n",
        " [ 0.22222222  0.          0.77777778]]\n",
        "# of MR events:55\t# of SR events:74\tcsore:0.0"
       ]
      },
      {
       "output_type": "stream",
       "stream": "stdout",
       "text": [
        "\n",
        "-=Multi-Read Confusion Matrix=-\n",
        "C:23\tmC:24\thmC:8\n",
        "C\tmC\thmC\n",
        "[[ 0.65217391  0.04347826  0.30434783]\n",
        " [ 0.25        0.45833333  0.29166667]\n",
        " [ 0.          0.          1.        ]]\n",
        "-=Single-Read Confusion Matrix=-\n",
        "C:27\tmC:28\thmC:19\n",
        "C\tmC\thmC\n",
        "[[ 0.77777778  0.          0.22222222]\n",
        " [ 0.21428571  0.57142857  0.21428571]\n",
        " [ 0.21052632  0.05263158  0.73684211]]\n"
       ]
      }
     ],
     "prompt_number": 46
    },
    {
     "cell_type": "code",
     "collapsed": false,
     "input": [
      "accuracy_by_filter_score( data['data_sr'], 'Accuracy of Single Reads by Barcode' )\n",
      "accuracy_by_filter_score( data['data_mr'], 'Accuracy of Multi Reads by Barcode' )"
     ],
     "language": "python",
     "metadata": {},
     "outputs": [
      {
       "metadata": {},
       "output_type": "display_data",
       "png": "[encoded data removed]",
       "text": [
        "<matplotlib.figure.Figure at 0x18e88c50>"
       ]
      },
      {
       "metadata": {},
       "output_type": "display_data",
       "png": "[encoded data removed]",
       "text": [
        "<matplotlib.figure.Figure at 0x191ce128>"
       ]
      }
     ],
     "prompt_number": 47
    },
    {
     "cell_type": "heading",
     "level": 2,
     "metadata": {},
     "source": [
      "Extras:  New Improvements to Pseudo-Trained Model"
     ]
    },
    {
     "cell_type": "code",
     "collapsed": false,
     "input": [
      "# Acquire Events\n",
      "source = '../Data/JSON/New/'\n",
      "for root, dirnames, filenames in os.walk(source):\n",
      "    events = filenames\n",
      "\n",
      "# Read in Untrained HMM \n",
      "with open ( '../Data/HMMs/Temp_Test.txt', 'r' ) as file:\n",
      "    model = Model.read( file )\n",
      "\n",
      "# Acquire indices\n",
      "indices = { state.name: i for i, state in enumerate( model.states ) }\n",
      "\n",
      "# Rank Events by CHUNK Score\n",
      "ranked_events = {}\n",
      "for i in xrange(10):\n",
      "    ranked_events[i] = []\n",
      "\n",
      "print 'Ranking Events by CHUNK Score'\n",
      "counter = 0\n",
      "for event_name in events:  \n",
      "    counter+=1\n",
      "    # Convert JSON to event\n",
      "    event = Event.from_json( source + event_name )\n",
      "\n",
      "    # Convert event into a list of means\n",
      "    means = [seg['mean'] for seg in event.segments]\n",
      "\n",
      "    # Perform forward_backward algorithm\n",
      "    trans, ems = model.forward_backward( means )\n",
      "\n",
      "    # Partition the event into 'chunks' of context / label regions\n",
      "    contexts, labels = partition_event( indices, event, ems, means)\n",
      "\n",
      "    # Get chunk scores\n",
      "    contexts, labels = chunk_score( indices, contexts, labels, ems )\n",
      "\n",
      "    # Get chunk vector\n",
      "    contexts, labels = chunk_vector( indices, contexts, labels, ems )\n",
      "    \n",
      "    if contexts and labels:\n",
      "        max_c = max( [ x[0] for x in contexts ] ) \n",
      "        max_l = max( [ x[0] for x in labels ] )\n",
      "        \n",
      "        for i in xrange(9,-1,-1):\n",
      "            if max_c >= i*.10 and max_l >= i*.10:\n",
      "                clear_output(wait=True)\n",
      "                print 'C:{}\\t\\tAssigned:{}\\tPercentage:{}%'.format(round(max_c,2), i, round((counter*1.0/len(events))*100,2))\n",
      "                sys.stdout.flush()\n",
      "                ranked_events[i].append( (event_name, contexts, labels, ems, means) )\n",
      "                break\n",
      "print '\\n'\n",
      "for i in ranked_events:\n",
      "    print 'cscore:{} to {}\\t# of Events:{}'.format(i*.10, (i+1)*.10, len(ranked_events[i]))\n",
      "\n",
      "# Create array\n",
      "data = np.zeros( (10, 12) ) \n",
      "\n",
      "## Iterate through the range of cutoff values: \n",
      "cscores = [ 0.9, 0.8, 0.7, 0.6, 0.5, 0.4, 0.3, 0.2, 0.1, 0.0 ]\n",
      "data_counter = 0\n",
      "for cscore in cscores:\n",
      "    \n",
      "    #print '\\nCscore: {}\\n'.format( cscore )\n",
      "    # Counters\n",
      "    counters = []\n",
      "    counter = 0\n",
      "    \n",
      "    # Bins to hold counts\n",
      "    bins = { 'f': 0, 'l': 0, 'r':0, 'b': 0, 'i': 0, 'h': 0 }                # Counter for hard calls\n",
      "    soft_calls = { 'f': [], 'l': [], 'r':[], 'b': [], 'i': [], 'h': [] }    # Will hold soft calls\n",
      "    \n",
      "    ## For a given cscore, group and iterate through.\n",
      "    event_sum = 0\n",
      "    for i in xrange(9, int(cscore*10-1), -1):\n",
      "        event_sum += len(ranked_events[i])\n",
      "        for event in ranked_events[i]:\n",
      "            \n",
      "            # Unpack Variables\n",
      "            event_name = event[0]\n",
      "            contexts = event[1]\n",
      "            labels = event[2]\n",
      "            ems = event[3]\n",
      "            means = event[4]\n",
      "            barcode = event_name.split('-')[0]\n",
      "            # update counter\n",
      "            counter += 1\n",
      "           \n",
      "            ## Single Read Methods\n",
      "            fchunk, fcall = Methods.first_chunk( contexts, labels, cscore )\n",
      "            lchunk, lcall = Methods.last_chunk( contexts, labels, cscore )\n",
      "            rchunk, rcall = Methods.random_chunk( contexts, labels, cscore )\n",
      "            \n",
      "            ## Multi-Read Methods\n",
      "            bchunk, bcall = Methods.best_chunk( contexts, labels )\n",
      "            ichunk, icall = Methods.ind_consensus( contexts, labels, cscore )\n",
      "            hchunk, hcall = Methods.hmm_consensus( indices, ems, len(means), chunk_vector )\n",
      "\n",
      "             # First Chunk\n",
      "            soft_calls['f'].append( fchunk )\n",
      "            if barcode == fcall[0]:\n",
      "                bins['f'] += 1\n",
      "                \n",
      "            # Last Chunk\n",
      "            soft_calls['l'].append( lchunk )\n",
      "            if barcode == lcall[0]:\n",
      "                bins['l'] += 1\n",
      "                \n",
      "            # Random Chunk\n",
      "            soft_calls['r'].append( rchunk )\n",
      "            if barcode == rcall[0]:\n",
      "                bins['r'] += 1\n",
      "            \n",
      "            # Best Chunk\n",
      "            soft_calls['b'].append( bchunk )\n",
      "            if barcode == bcall[0]:\n",
      "                bins['b'] += 1\n",
      "                \n",
      "            # Ind Consensus\n",
      "            soft_calls['i'].append( ichunk )\n",
      "            if barcode == icall[0]:\n",
      "                bins['i'] += 1\n",
      "            #print 'Context_hc: {}\\tBarcode: {}\\tEvent_Name:{}'.format( icall[0], barcode, event_name )\n",
      "                \n",
      "            #HMM Consensus\n",
      "            soft_calls['h'].append( hchunk )\n",
      "            if barcode == hcall[0]:\n",
      "                bins['h'] += 1\n",
      "                \n",
      "    j = data_counter\n",
      "    data[j][0] = bins['f']*1.0 / counter\n",
      "    data[j][1] = np.mean(soft_calls['f'])\n",
      "    data[j][2] = bins['l']*1.0 / counter\n",
      "    data[j][3] = np.mean(soft_calls['l'])\n",
      "    data[j][4] = bins['r']*1.0 / counter\n",
      "    data[j][5] = np.mean(soft_calls['r'])\n",
      "    data[j][6] = bins['h']*1.0 / counter\n",
      "    data[j][7] = np.mean(soft_calls['h'])\n",
      "    data[j][8] = bins['b']*1.0 / counter\n",
      "    data[j][9] = np.mean(soft_calls['b'])\n",
      "    data[j][10] = bins['i']*1.0 / counter\n",
      "    data[j][11] = np.mean(soft_calls['i'])\n",
      "    data_counter += 1\n",
      "     "
     ],
     "language": "python",
     "metadata": {},
     "outputs": [
      {
       "output_type": "stream",
       "stream": "stdout",
       "text": [
        "C:0.0\t\tAssigned:0\tPercentage:100.0%\n"
       ]
      },
      {
       "output_type": "stream",
       "stream": "stdout",
       "text": [
        "\n",
        "\n",
        "cscore:0.0 to 0.1\t# of Events:44\n",
        "cscore:0.1 to 0.2\t# of Events:2\n",
        "cscore:0.2 to 0.3\t# of Events:2\n",
        "cscore:0.3 to 0.4\t# of Events:1\n",
        "cscore:0.4 to 0.5\t# of Events:5\n",
        "cscore:0.5 to 0.6\t# of Events:5\n",
        "cscore:0.6 to 0.7\t# of Events:11\n",
        "cscore:0.7 to 0.8\t# of Events:11\n",
        "cscore:0.8 to 0.9\t# of Events:27\n",
        "cscore:0.9 to 1.0\t# of Events:21\n"
       ]
      }
     ],
     "prompt_number": 48
    },
    {
     "cell_type": "code",
     "collapsed": false,
     "input": [
      "accuracy_by_filter_score( data, 'Accuracy of Context Chunk by Barcode -- Pseudo_Trained HMM' )"
     ],
     "language": "python",
     "metadata": {},
     "outputs": [
      {
       "metadata": {},
       "output_type": "display_data",
       "png": "[encoded data removed]",
       "text": [
        "<matplotlib.figure.Figure at 0x16621908>"
       ]
      }
     ],
     "prompt_number": 49
    },
    {
     "cell_type": "heading",
     "level": 2,
     "metadata": {},
     "source": [
      "Plot Functions"
     ]
    },
    {
     "cell_type": "code",
     "collapsed": false,
     "input": [
      "def accuracy_by_filter_score( data, title, sc=False ):\n",
      "    \n",
      "    # Convert Groups of arrays into lists of scores by csore.\n",
      "    first, last, random = [], [], []\n",
      "    hmm, best, ind = [], [], []\n",
      "    sample_sizes = []\n",
      "    \n",
      "    for j in xrange(0,10):\n",
      "            \n",
      "            #trial = np.loadtxt( '../Data/Results/' + trial_name, delimiter = ',' )\n",
      "            #accuracies = means[::2]\n",
      "            #acc_std = stds[::2]\n",
      "            #softcalls = means[1::2]\n",
      "            #sc_std = stds[1::2]\n",
      "            \n",
      "            trial = data[j]\n",
      "        \n",
      "            accuracies = trial[::2]\n",
      "            softcalls = trial[1::2]\n",
      "            \n",
      "            if sc:\n",
      "                f,l,r,h,b,i = softcalls\n",
      "            else:\n",
      "                f,l,r,h,b,i = accuracies\n",
      "            first.append( f ); last.append( l ); random.append( r )\n",
      "            hmm.append( h ) ; best.append( b ); ind.append( i )\n",
      "         \n",
      "            #sample_sizes.append( trial_name.split('_')[3] )\n",
      "\n",
      "    x = [ 0.9, 0.8, 0.7, 0.6, 0.5, 0.4, 0.3, 0.2, 0.1, 0.0 ]\n",
      "    plt.plot( x, first, label='first' )\n",
      "    plt.plot( x, last, label='last' ) \n",
      "    plt.plot( x, random, label='random' )\n",
      "    \n",
      "    plt.plot( x, hmm, label='hmm' )\n",
      "    plt.plot( x, best, label='best' )\n",
      "    plt.plot( x, ind, label='ind' )\n",
      "    \n",
      "   # plt.title( trial_name.split('_')[0] + ' - ' + trial_name.split('_')[1] \\\n",
      "    #            + ' - ' + trial_name.split('_')[2], fontsize=14 )\n",
      "    \n",
      "    #plt.title( title )\n",
      "    plt.xlabel( 'Chunk Score Cutoff', fontsize=14 )\n",
      "    plt.ylabel( 'Accuracy', fontsize=14 )\n",
      "    plt.ylim( [0.5,1.0] )\n",
      "    plt.legend(loc='lower left', bbox_to_anchor=(1.02, 0), borderaxespad=0, fontsize=14)\n",
      "    plt.gca().invert_xaxis()\n",
      "    plt.show()\n"
     ],
     "language": "python",
     "metadata": {},
     "outputs": [],
     "prompt_number": 50
    },
    {
     "cell_type": "heading",
     "level": 2,
     "metadata": {},
     "source": [
      "Heatmaps"
     ]
    },
    {
     "cell_type": "code",
     "collapsed": false,
     "input": [
      "cm_mr = np.array(\n",
      "[[ 0.83333333,  0.16666667,  0.        ],\n",
      " [ 0.22222222,  0.77777778,  0.        ],\n",
      " [ 0.,          0.,          1.        ]] )\n",
      "\n",
      "cm_sr = np.array([[ 0.81818182,  0.09090909,  0.09090909],\n",
      "[ 0.25   ,     0.75 ,       0.        ],\n",
      " [ 0.23529412,  0.   ,       0.76470588]] )\n",
      "\n",
      "'''\n",
      "plt.pcolor(cm_mr, cmap='Purples')\n",
      "plt.colorbar()\n",
      "plt.show()\n",
      "'''\n",
      "\n",
      "\n",
      "def heatmap( data, title ):\n",
      "    row_labels = ['C', 'mC', 'hmC']\n",
      "    column_labels = row_labels\n",
      "\n",
      "    fig, ax = plt.subplots()\n",
      "    heatmap = ax.pcolor(data, cmap='summer')\n",
      "\n",
      "    # put the major ticks at the middle of each cell\n",
      "    ax.set_xticks(np.arange(data.shape[0])+0.5, minor=False)\n",
      "    ax.set_yticks(np.arange(data.shape[1])+0.5, minor=False)\n",
      "\n",
      "    # want a more natural, table-like display\n",
      "    ax.invert_yaxis()\n",
      "    ax.xaxis.tick_top()\n",
      "\n",
      "\n",
      "    for y in range(data.shape[0]):\n",
      "        for x in range(data.shape[1]):\n",
      "            plt.text(x + 0.5, y + 0.5, '%.4f' % data[y, x],\n",
      "                     horizontalalignment='center',\n",
      "                     verticalalignment='center',\n",
      "                     )\n",
      "\n",
      "\n",
      "    ax.set_xticklabels(row_labels, minor=False)\n",
      "    ax.set_yticklabels(column_labels, minor=False)\n",
      "    #plt.title(title)\n",
      "    plt.ylabel( 'Label' )\n",
      "    plt.show()\n",
      "    \n",
      "heatmap( cm_mr, 'Multi-Read Heatmap\\n\\n')\n",
      "heatmap( cm_sr, 'Single-Read Heatmap\\n\\n')"
     ],
     "language": "python",
     "metadata": {},
     "outputs": [
      {
       "metadata": {},
       "output_type": "display_data",
       "png": "[encoded data removed]",
       "text": [
        "<matplotlib.figure.Figure at 0x197b5da0>"
       ]
      },
      {
       "metadata": {},
       "output_type": "display_data",
       "png": "[encoded data removed]",
       "text": [
        "<matplotlib.figure.Figure at 0x16547e80>"
       ]
      }
     ],
     "prompt_number": 52
    },
    {
     "cell_type": "code",
     "collapsed": false,
     "input": [],
     "language": "python",
     "metadata": {},
     "outputs": [],
     "prompt_number": 51
    }
   ],
   "metadata": {}
  }
 ]
}