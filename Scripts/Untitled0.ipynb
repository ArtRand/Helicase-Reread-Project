{
 "metadata": {
  "name": "",
  "signature": "sha256:30f1b0eb8c134f40cd6361b0b597ce2a0b8ce3e95a3a264b1bc33ff27f8ba946"
 },
 "nbformat": 3,
 "nbformat_minor": 0,
 "worksheets": []
}