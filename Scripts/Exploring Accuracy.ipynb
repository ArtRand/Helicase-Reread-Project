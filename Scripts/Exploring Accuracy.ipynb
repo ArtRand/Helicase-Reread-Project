{
 "metadata": {
  "name": "",
  "signature": "sha256:924203b6303774517139dc9081c442e1f6b5e68205a5084c7512736cd66c20f8"
 },
 "nbformat": 3,
 "nbformat_minor": 0,
 "worksheets": [
  {
   "cells": [
    {
     "cell_type": "heading",
     "level": 1,
     "metadata": {},
     "source": [
      "Exploring Accuracy"
     ]
    },
    {
     "cell_type": "markdown",
     "metadata": {},
     "source": [
      "This notebook was authored by John Vivian (jtvivian@gmail.com)\n",
      "\n",
      "    1. Plot the accuracy of the Label by the BARCODE (by CHUNK score) \n",
      "    2. Plot Accuracy of context by the BARCODE \n",
      "    3. Plot soft-call accuracy \n",
      "    4. Try only states 8,9,10 in accuracy \n",
      "    5. Compare reread accuracy from rereads to single reads"
     ]
    },
    {
     "cell_type": "heading",
     "level": 2,
     "metadata": {},
     "source": [
      "Accuracy Plot of Label given the Barcode "
     ]
    },
    {
     "cell_type": "code",
     "collapsed": false,
     "input": [
      "%matplotlib inline\n",
      "from IPython.display import display, clear_output\n",
      "import sys, os, random, argparse\n",
      "import numpy as np\n",
      "import Methods\n",
      "import seaborn as sns\n",
      "\n",
      "sys.path.append( '../Models' )\n",
      "from Simple_Model import *\n",
      "\n",
      "# Acquire Events\n",
      "source = '../Data/JSON/Test/'\n",
      "for root, dirnames, filenames in os.walk(source):\n",
      "    events = filenames\n",
      "    \n",
      "# Randomize List\n",
      "random.shuffle( events )\n",
      "\n",
      "# Break into 5 equal groups\n",
      "event_groups = [ events[i::5] for i in xrange(5) ]\n",
      "    \n",
      "## 2. For every group: withold and train on other 4. \n",
      "# Create array\n",
      "data = np.zeros( (10, 12) ) \n",
      "\n",
      "## 3. Read in Untrained HMM then train\n",
      "with open ( '../Data/HMMs/Temp_Test.txt', 'r' ) as file:\n",
      "    model = Model.read( file ) \n",
      "#print '\\nTraining HMM: Witholding group {}. Training size {}. Cscore: {}'.format( i+1, len(training), cscore )\n",
      "#model.train( sequences )\n",
      "\n",
      "# Acquire indices\n",
      "indices = { state.name: i for i, state in enumerate( model.states ) }\n",
      "\n",
      "## In order to speed this thing up, assign events to lists by cscore so that\n",
      "## it doesn't need to be done every iteration.\n",
      "ranked_events = {}\n",
      "for i in xrange(10):\n",
      "    ranked_events[i] = []\n",
      "\n",
      "print 'Ranking Events by CHUNK Score'\n",
      "counter = 0\n",
      "for event_name in events:  \n",
      "    counter+=1\n",
      "    # Convert JSON to event\n",
      "    event = Event.from_json( source + event_name )\n",
      "\n",
      "    # Convert event into a list of means\n",
      "    means = [seg['mean'] for seg in event.segments]\n",
      "\n",
      "    # Perform forward_backward algorithm\n",
      "    trans, ems = model.forward_backward( means )\n",
      "\n",
      "    # Partition the event into 'chunks' of context / label regions\n",
      "    contexts, labels = partition_event( indices, event, ems, means)\n",
      "\n",
      "    # Get chunk scores\n",
      "    contexts, labels = chunk_score( indices, contexts, labels, ems )\n",
      "\n",
      "    # Get chunk vector\n",
      "    contexts, labels = chunk_vector( indices, contexts, labels, ems )\n",
      "    if contexts and labels:\n",
      "        max_c = max( [ x[0] for x in contexts ] ) \n",
      "        max_l = max( [ x[0] for x in labels ] )\n",
      "\n",
      "        for i in xrange(9,-1,-1):\n",
      "            if max_c >= i*.10 and max_l >= i*.10:\n",
      "                print 'C:{}\\tL:{}\\tAssigned:{}\\tPercentage:{}%\\r'.format(round(max_c,2), round(max_l,2), i, round((counter*1.0/len(events))*100,2)),\n",
      "                ranked_events[i].append( (event_name, contexts, labels, ems, means) )\n",
      "                break\n",
      "print '\\n'\n",
      "for i in ranked_events:\n",
      "    print i, len(ranked_events[i])\n",
      "\n",
      "## Iterate through the range of cutoff values: \n",
      "cscores = [ 0.9, 0.8, 0.7, 0.6, 0.5, 0.4, 0.3, 0.2, 0.1, 0.0 ]\n",
      "data_counter = 0\n",
      "for cscore in cscores:\n",
      "    ## Keep track of hard calls -- list with 'n' and 'correct'\n",
      "    hard_calls = { 'C': [0, 0], 'mC' : [0,0], 'hmC' : [0,0] }\n",
      "\n",
      "    counters = []\n",
      "    #for i in xrange(1): # 5 for real k-fold\n",
      "    counter = 0\n",
      "\n",
      "    # Bins to hold counts\n",
      "    bins = { 'f': 0, 'l': 0, 'r':0, 'b': 0, 'i': 0, 'h': 0 }                # Counter for hard calls\n",
      "    soft_calls = { 'f': [], 'l': [], 'r':[], 'b': [], 'i': [], 'h': [] }    # Will hold soft calls\n",
      "    \n",
      "    ## For a given cscore, group and iterate through.\n",
      "    event_sum = 0\n",
      "    for i in xrange(9, int(cscore*10-1), -1):\n",
      "        event_sum += len(ranked_events[i])\n",
      "        for event in ranked_events[i]:\n",
      "            # Unpack Variables\n",
      "            event_name = event[0]\n",
      "            contexts = event[1]\n",
      "            labels = event[2]\n",
      "            ems = event[3]\n",
      "            means = event[4]\n",
      "            barcode = event_name.split('-')[0]\n",
      "            # update counter\n",
      "            counter += 1\n",
      "           \n",
      "            ## Single Read Methods\n",
      "            fchunk, fcall = Methods.first_chunk( contexts, labels, cscore )\n",
      "            lchunk, lcall = Methods.last_chunk( contexts, labels, cscore )\n",
      "            rchunk, rcall = Methods.random_chunk( contexts, labels, cscore )\n",
      "            \n",
      "            ## Multi-Read Methods\n",
      "            bchunk, bcall = Methods.best_chunk( contexts, labels )\n",
      "            ichunk, icall = Methods.ind_consensus( contexts, labels, cscore )\n",
      "            hchunk, hcall = Methods.hmm_consensus( indices, ems, len(means), chunk_vector )\n",
      "\n",
      "             # First Chunk\n",
      "            soft_calls['f'].append( fchunk )\n",
      "            if barcode == fcall[1]:\n",
      "                bins['f'] += 1\n",
      "                \n",
      "            # Last Chunk\n",
      "            soft_calls['l'].append( lchunk )\n",
      "            if barcode == lcall[1]:\n",
      "                bins['l'] += 1\n",
      "                \n",
      "            # Random Chunk\n",
      "            soft_calls['r'].append( rchunk )\n",
      "            if barcode == rcall[1]:\n",
      "                bins['r'] += 1\n",
      "            \n",
      "            # Best Chunk\n",
      "            soft_calls['b'].append( bchunk )\n",
      "            if barcode == bcall[1]:\n",
      "                bins['b'] += 1\n",
      "                \n",
      "            # Ind Consensus\n",
      "            soft_calls['i'].append( ichunk )\n",
      "            if barcode == icall[1]:\n",
      "                bins['i'] += 1\n",
      "                \n",
      "            #HMM Consensus\n",
      "            soft_calls['h'].append( hchunk )\n",
      "            if barcode == hcall[1]:\n",
      "                bins['h'] += 1\n",
      "                \n",
      "    j = data_counter\n",
      "    data[j][0] = bins['f']*1.0 / counter\n",
      "    data[j][1] = np.mean(soft_calls['f'])\n",
      "    data[j][2] = bins['l']*1.0 / counter\n",
      "    data[j][3] = np.mean(soft_calls['l'])\n",
      "    data[j][4] = bins['r']*1.0 / counter\n",
      "    data[j][5] = np.mean(soft_calls['r'])\n",
      "    data[j][6] = bins['h']*1.0 / counter\n",
      "    data[j][7] = np.mean(soft_calls['h'])\n",
      "    data[j][8] = bins['b']*1.0 / counter\n",
      "    data[j][9] = np.mean(soft_calls['b'])\n",
      "    data[j][10] = bins['i']*1.0 / counter\n",
      "    data[j][11] = np.mean(soft_calls['i'])\n",
      "    data_counter += 1\n",
      "     "
     ],
     "language": "python",
     "metadata": {},
     "outputs": [
      {
       "output_type": "stream",
       "stream": "stdout",
       "text": [
        "Ranking Events by CHUNK Score\n",
        "C:0.81\tL:0.86\tAssigned:8\tPercentage:1.54%\r"
       ]
      },
      {
       "output_type": "stream",
       "stream": "stdout",
       "text": [
        "C:0.0\tL:0.26\tAssigned:0\tPercentage:3.08%\r",
        "C:0.97\tL:0.85\tAssigned:8\tPercentage:4.62%\r"
       ]
      },
      {
       "output_type": "stream",
       "stream": "stdout",
       "text": [
        "C:0.79\tL:0.9\tAssigned:7\tPercentage:6.15%\r",
        "C:0.76\tL:0.64\tAssigned:6\tPercentage:7.69%\r"
       ]
      },
      {
       "output_type": "stream",
       "stream": "stdout",
       "text": [
        "C:0.64\tL:0.0\tAssigned:0\tPercentage:9.23%\r",
        "C:0.93\tL:0.89\tAssigned:8\tPercentage:10.77%\r"
       ]
      },
      {
       "output_type": "stream",
       "stream": "stdout",
       "text": [
        "C:0.98\tL:0.79\tAssigned:7\tPercentage:12.31%\r",
        "C:0.98\tL:0.86\tAssigned:8\tPercentage:13.85%\r"
       ]
      },
      {
       "output_type": "stream",
       "stream": "stdout",
       "text": [
        "C:0.71\tL:0.66\tAssigned:6\tPercentage:15.38%\r",
        "C:0.0\tL:0.68\tAssigned:0\tPercentage:16.92%\r"
       ]
      },
      {
       "output_type": "stream",
       "stream": "stdout",
       "text": [
        "C:0.94\tL:0.96\tAssigned:9\tPercentage:18.46%\r",
        "C:0.97\tL:0.82\tAssigned:8\tPercentage:20.0%\r"
       ]
      },
      {
       "output_type": "stream",
       "stream": "stdout",
       "text": [
        "C:0.98\tL:0.97\tAssigned:9\tPercentage:21.54%\r",
        "C:0.97\tL:0.9\tAssigned:8\tPercentage:23.08%\r"
       ]
      },
      {
       "output_type": "stream",
       "stream": "stdout",
       "text": [
        "C:0.98\tL:0.01\tAssigned:0\tPercentage:24.62%\r",
        "C:0.0\tL:0.01\tAssigned:0\tPercentage:26.15%\r"
       ]
      },
      {
       "output_type": "stream",
       "stream": "stdout",
       "text": [
        "C:0.98\tL:0.94\tAssigned:9\tPercentage:27.69%\r",
        "C:0.94\tL:0.49\tAssigned:4\tPercentage:29.23%\r"
       ]
      },
      {
       "output_type": "stream",
       "stream": "stdout",
       "text": [
        "C:0.98\tL:0.98\tAssigned:9\tPercentage:30.77%\r",
        "C:0.77\tL:0.0\tAssigned:0\tPercentage:32.31%\r"
       ]
      },
      {
       "output_type": "stream",
       "stream": "stdout",
       "text": [
        "C:0.97\tL:0.57\tAssigned:5\tPercentage:33.85%\r",
        "C:0.97\tL:0.67\tAssigned:6\tPercentage:35.38%\r"
       ]
      },
      {
       "output_type": "stream",
       "stream": "stdout",
       "text": [
        "C:0.95\tL:0.89\tAssigned:8\tPercentage:36.92%\r",
        "C:0.98\tL:0.88\tAssigned:8\tPercentage:38.46%\r"
       ]
      },
      {
       "output_type": "stream",
       "stream": "stdout",
       "text": [
        "C:0.85\tL:0.86\tAssigned:8\tPercentage:40.0%\r",
        "C:0.42\tL:0.02\tAssigned:0\tPercentage:41.54%\r"
       ]
      },
      {
       "output_type": "stream",
       "stream": "stdout",
       "text": [
        "C:0.0\tL:0.86\tAssigned:0\tPercentage:43.08%\r",
        "C:0.95\tL:0.86\tAssigned:8\tPercentage:44.62%\r"
       ]
      },
      {
       "output_type": "stream",
       "stream": "stdout",
       "text": [
        "C:0.0\tL:0.0\tAssigned:0\tPercentage:46.15%\r",
        "C:0.98\tL:0.0\tAssigned:0\tPercentage:47.69%\r"
       ]
      },
      {
       "output_type": "stream",
       "stream": "stdout",
       "text": [
        "C:0.95\tL:0.96\tAssigned:9\tPercentage:49.23%\r",
        "C:0.82\tL:0.82\tAssigned:8\tPercentage:50.77%\r"
       ]
      },
      {
       "output_type": "stream",
       "stream": "stdout",
       "text": [
        "C:0.91\tL:0.02\tAssigned:0\tPercentage:52.31%\r",
        "C:0.96\tL:0.6\tAssigned:6\tPercentage:53.85%\r"
       ]
      },
      {
       "output_type": "stream",
       "stream": "stdout",
       "text": [
        "C:0.85\tL:0.77\tAssigned:7\tPercentage:55.38%\r",
        "C:0.0\tL:0.78\tAssigned:0\tPercentage:56.92%\r"
       ]
      },
      {
       "output_type": "stream",
       "stream": "stdout",
       "text": [
        "C:0.96\tL:0.85\tAssigned:8\tPercentage:58.46%\r",
        "C:0.81\tL:0.95\tAssigned:8\tPercentage:60.0%\r"
       ]
      },
      {
       "output_type": "stream",
       "stream": "stdout",
       "text": [
        "C:0.0\tL:0.0\tAssigned:0\tPercentage:61.54%\r",
        "C:0.96\tL:0.01\tAssigned:0\tPercentage:63.08%\r"
       ]
      },
      {
       "output_type": "stream",
       "stream": "stdout",
       "text": [
        "C:0.75\tL:0.97\tAssigned:7\tPercentage:64.62%\r",
        "C:0.98\tL:0.9\tAssigned:9\tPercentage:66.15%\r"
       ]
      },
      {
       "output_type": "stream",
       "stream": "stdout",
       "text": [
        "C:0.89\tL:0.95\tAssigned:8\tPercentage:67.69%\r",
        "C:0.0\tL:0.0\tAssigned:0\tPercentage:69.23%\r"
       ]
      },
      {
       "output_type": "stream",
       "stream": "stdout",
       "text": [
        "C:0.82\tL:0.97\tAssigned:8\tPercentage:70.77%\r",
        "C:0.98\tL:0.68\tAssigned:6\tPercentage:72.31%\r"
       ]
      },
      {
       "output_type": "stream",
       "stream": "stdout",
       "text": [
        "C:0.91\tL:0.75\tAssigned:7\tPercentage:73.85%\r",
        "C:0.97\tL:0.91\tAssigned:9\tPercentage:75.38%\r"
       ]
      },
      {
       "output_type": "stream",
       "stream": "stdout",
       "text": [
        "C:0.17\tL:0.69\tAssigned:1\tPercentage:76.92%\r",
        "C:0.0\tL:0.71\tAssigned:0\tPercentage:78.46%\r"
       ]
      },
      {
       "output_type": "stream",
       "stream": "stdout",
       "text": [
        "C:0.79\tL:0.67\tAssigned:6\tPercentage:80.0%\r",
        "C:0.0\tL:0.77\tAssigned:0\tPercentage:81.54%\r"
       ]
      },
      {
       "output_type": "stream",
       "stream": "stdout",
       "text": [
        "C:0.97\tL:0.44\tAssigned:4\tPercentage:83.08%\r",
        "C:0.94\tL:0.93\tAssigned:9\tPercentage:84.62%\r"
       ]
      },
      {
       "output_type": "stream",
       "stream": "stdout",
       "text": [
        "C:0.0\tL:0.95\tAssigned:0\tPercentage:86.15%\r",
        "C:0.77\tL:0.15\tAssigned:1\tPercentage:87.69%\r"
       ]
      },
      {
       "output_type": "stream",
       "stream": "stdout",
       "text": [
        "C:0.0\tL:0.0\tAssigned:0\tPercentage:89.23%\r",
        "C:0.97\tL:0.68\tAssigned:6\tPercentage:90.77%\r"
       ]
      },
      {
       "output_type": "stream",
       "stream": "stdout",
       "text": [
        "C:0.0\tL:0.0\tAssigned:0\tPercentage:92.31%\r",
        "C:0.84\tL:0.93\tAssigned:8\tPercentage:93.85%\r"
       ]
      },
      {
       "output_type": "stream",
       "stream": "stdout",
       "text": [
        "C:0.0\tL:0.85\tAssigned:0\tPercentage:95.38%\r",
        "C:0.85\tL:0.91\tAssigned:8\tPercentage:96.92%\r"
       ]
      },
      {
       "output_type": "stream",
       "stream": "stdout",
       "text": [
        "C:0.84\tL:0.96\tAssigned:8\tPercentage:98.46%\r",
        "C:0.97\tL:0.88\tAssigned:8\tPercentage:100.0%\r"
       ]
      },
      {
       "output_type": "stream",
       "stream": "stdout",
       "text": [
        "\n",
        "\n",
        "0 21\n",
        "1 2\n",
        "2 0\n",
        "3 0\n",
        "4 2\n",
        "5 1\n",
        "6 7\n",
        "7 5\n",
        "8 19\n",
        "9 8\n"
       ]
      }
     ],
     "prompt_number": 4
    },
    {
     "cell_type": "code",
     "collapsed": false,
     "input": [
      "accuracy_by_filter_score( data, 'Label Accuracy by Chunk Score' )"
     ],
     "language": "python",
     "metadata": {},
     "outputs": [
      {
       "metadata": {},
       "output_type": "display_data",
       "png": "[encoded data removed]",
       "text": [
        "<matplotlib.figure.Figure at 0x3adf668>"
       ]
      }
     ],
     "prompt_number": 5
    },
    {
     "cell_type": "heading",
     "level": 2,
     "metadata": {},
     "source": [
      "Accuray of Context by Barcode"
     ]
    },
    {
     "cell_type": "code",
     "collapsed": false,
     "input": [
      "data_counter = 0\n",
      "for cscore in cscores:\n",
      "    #print '\\nCscore:{}\\n'.format(cscore)\n",
      "   \n",
      "    # Counters\n",
      "    counters = []\n",
      "    counter = 0\n",
      "    \n",
      "    # Bins to hold counts\n",
      "    bins = { 'f': 0, 'l': 0, 'r':0, 'b': 0, 'i': 0, 'h': 0 }                # Counter for hard calls\n",
      "    soft_calls = { 'f': [], 'l': [], 'r':[], 'b': [], 'i': [], 'h': [] }    # Will hold soft calls\n",
      "    \n",
      "    ## For a given cscore, group and iterate through.\n",
      "    event_sum = 0\n",
      "    for i in xrange(9, int(cscore*10-1), -1):\n",
      "        event_sum += len(ranked_events[i])\n",
      "        for event in ranked_events[i]:\n",
      "            \n",
      "            # Unpack Variables\n",
      "            event_name = event[0]\n",
      "            contexts = event[1]\n",
      "            labels = event[2]\n",
      "            ems = event[3]\n",
      "            means = event[4]\n",
      "            barcode = event_name.split('-')[0]\n",
      "            # update counter\n",
      "            counter += 1\n",
      "           \n",
      "            ## Single Read Methods\n",
      "            fchunk, fcall = Methods.first_chunk( contexts, labels, cscore )\n",
      "            lchunk, lcall = Methods.last_chunk( contexts, labels, cscore )\n",
      "            rchunk, rcall = Methods.random_chunk( contexts, labels, cscore )\n",
      "            \n",
      "            ## Multi-Read Methods\n",
      "            bchunk, bcall = Methods.best_chunk( contexts, labels )\n",
      "            ichunk, icall = Methods.ind_consensus( contexts, labels, cscore )\n",
      "            hchunk, hcall = Methods.hmm_consensus( indices, ems, len(means), chunk_vector )\n",
      "\n",
      "             # First Chunk\n",
      "            soft_calls['f'].append( fchunk )\n",
      "            if barcode == fcall[0]:\n",
      "                bins['f'] += 1\n",
      "                \n",
      "            # Last Chunk\n",
      "            soft_calls['l'].append( lchunk )\n",
      "            if barcode == lcall[0]:\n",
      "                bins['l'] += 1\n",
      "                \n",
      "            # Random Chunk\n",
      "            soft_calls['r'].append( rchunk )\n",
      "            if barcode == rcall[0]:\n",
      "                bins['r'] += 1\n",
      "            \n",
      "            # Best Chunk\n",
      "            soft_calls['b'].append( bchunk )\n",
      "            if barcode == bcall[0]:\n",
      "                bins['b'] += 1\n",
      "                \n",
      "            # Ind Consensus\n",
      "            soft_calls['i'].append( ichunk )\n",
      "            if barcode == icall[0]:\n",
      "                bins['i'] += 1\n",
      "            #print 'Context_hc: {}\\tBarcode: {}\\tEvent_Name:{}'.format( icall[0], barcode, event_name )\n",
      "                \n",
      "            #HMM Consensus\n",
      "            soft_calls['h'].append( hchunk )\n",
      "            if barcode == hcall[0]:\n",
      "                bins['h'] += 1\n",
      "                \n",
      "    j = data_counter\n",
      "    data[j][0] = bins['f']*1.0 / counter\n",
      "    data[j][1] = np.mean(soft_calls['f'])\n",
      "    data[j][2] = bins['l']*1.0 / counter\n",
      "    data[j][3] = np.mean(soft_calls['l'])\n",
      "    data[j][4] = bins['r']*1.0 / counter\n",
      "    data[j][5] = np.mean(soft_calls['r'])\n",
      "    data[j][6] = bins['h']*1.0 / counter\n",
      "    data[j][7] = np.mean(soft_calls['h'])\n",
      "    data[j][8] = bins['b']*1.0 / counter\n",
      "    data[j][9] = np.mean(soft_calls['b'])\n",
      "    data[j][10] = bins['i']*1.0 / counter\n",
      "    data[j][11] = np.mean(soft_calls['i'])\n",
      "    data_counter += 1\n",
      "    \n"
     ],
     "language": "python",
     "metadata": {},
     "outputs": [],
     "prompt_number": 8
    },
    {
     "cell_type": "code",
     "collapsed": false,
     "input": [
      "accuracy_by_filter_score( data, 'Accuracy of Context Chunk by Barcode -- Old \"Test HMM\"' )"
     ],
     "language": "python",
     "metadata": {},
     "outputs": [
      {
       "metadata": {},
       "output_type": "display_data",
       "png": "[encoded data removed]",
       "text": [
        "<matplotlib.figure.Figure at 0x16292e80>"
       ]
      }
     ],
     "prompt_number": 9
    },
    {
     "cell_type": "heading",
     "level": 2,
     "metadata": {},
     "source": [
      "Plot Soft-Call Accuracy "
     ]
    },
    {
     "cell_type": "code",
     "collapsed": false,
     "input": [
      "accuracy_by_filter_score( data, 'Soft-Call Accuracy of Context by Barcode', sc=True )"
     ],
     "language": "python",
     "metadata": {},
     "outputs": [
      {
       "metadata": {},
       "output_type": "display_data",
       "png": "[encoded data removed]",
       "text": [
        "<matplotlib.figure.Figure at 0x1629bb00>"
       ]
      }
     ],
     "prompt_number": 10
    },
    {
     "cell_type": "heading",
     "level": 2,
     "metadata": {},
     "source": [
      "Compare Reread Accuracy between Single Reads and Rereads"
     ]
    },
    {
     "cell_type": "code",
     "collapsed": false,
     "input": [
      "# Rank Events by CHUNK Score\n",
      "ranked_events = {}\n",
      "for i in xrange(10):\n",
      "    ranked_events[i] = []\n",
      "\n",
      "print 'Ranking Events by CHUNK Score'\n",
      "counter = 0\n",
      "for event_name in events:  \n",
      "    counter+=1\n",
      "    # Convert JSON to event\n",
      "    event = Event.from_json( source + event_name )\n",
      "\n",
      "    # Convert event into a list of means\n",
      "    means = [seg['mean'] for seg in event.segments]\n",
      "\n",
      "    # Perform forward_backward algorithm\n",
      "    trans, ems = model.forward_backward( means )\n",
      "\n",
      "    # Partition the event into 'chunks' of context / label regions\n",
      "    contexts, labels = partition_event( indices, event, ems, means)\n",
      "\n",
      "    # Get chunk scores\n",
      "    contexts, labels = chunk_score( indices, contexts, labels, ems )\n",
      "\n",
      "    # Get chunk vector\n",
      "    contexts, labels = chunk_vector( indices, contexts, labels, ems )\n",
      "    \n",
      "    if contexts and labels:\n",
      "        max_c = max( [ x[0] for x in contexts ] ) \n",
      "        max_l = max( [ x[0] for x in labels ] )\n",
      "        \n",
      "        for i in xrange(9,-1,-1):\n",
      "            if max_c >= i*.10 and max_l >= i*.10:\n",
      "                C = [ x for x in contexts if x[0] >= i*.10 ]\n",
      "                L = [ x for x in labels if x[0] >= i*.10 ]\n",
      "                clear_output(wait=True)\n",
      "                print 'C:{}\\t\\tAssigned:{}\\tPercentage:{}%'.format(round(max_c,2), i, round((counter*1.0/len(events))*100,2))\n",
      "                sys.stdout.flush()\n",
      "                if len(C) > 1:\n",
      "                    multi=True\n",
      "                    ranked_events[i].append( (event_name, contexts, labels, multi, ems, means) )\n",
      "                else:\n",
      "                    multi=False\n",
      "                    ranked_events[i].append( (event_name, contexts, labels, multi, ems, means) )\n",
      "                break\n",
      "#print '\\n'\n",
      "#for i in ranked_events:\n",
      "    #print 'cscore:{} to {}\\t# of Events:{}'.format(i*.10, (i+1)*.10, len(ranked_events[i]))\n",
      "\n",
      "# Create array\n",
      "#data_sr =  \n",
      "#data_mr = )\n",
      "data = { 'data_sr': np.zeros( (10, 12) ), 'data_mr': np.zeros( (10, 12) ) }\n",
      "\n",
      "## Iterate through the range of cutoff values: \n",
      "cscores = [ 0.9, 0.8, 0.7, 0.6, 0.5, 0.4, 0.3, 0.2, 0.1, 0.0 ]\n",
      "data_counter = 0\n",
      "for cscore in cscores:\n",
      "   \n",
      "    # Counters\n",
      "    counters = []\n",
      "    counter_mr = 0\n",
      "    counter_sr = 0\n",
      "    \n",
      "    # Bins to hold counts\n",
      "    bins_sr = { 'f': 0, 'l': 0, 'r':0, 'b': 0, 'i': 0, 'h': 0 }\n",
      "    bins_mr = { 'f': 0, 'l': 0, 'r':0, 'b': 0, 'i': 0, 'h': 0 } # Counter for hard calls\n",
      "    soft_calls = { 'f': [], 'l': [], 'r':[], 'b': [], 'i': [], 'h': [] }    # Will hold soft calls\n",
      "    \n",
      "    ## For a given cscore, group and iterate through.\n",
      "    event_sum = 0\n",
      "    for i in xrange(9, int(cscore*10-1), -1):\n",
      "        event_sum += len(ranked_events[i])\n",
      "        for event in ranked_events[i]:\n",
      "            \n",
      "            # Unpack Variables\n",
      "            event_name = event[0]\n",
      "            contexts = event[1]\n",
      "            labels = event[2]\n",
      "            multi = event[3]\n",
      "            ems = event[4]\n",
      "            means = event[5]\n",
      "            \n",
      "            barcode = event_name.split('-')[0]\n",
      "           \n",
      "            def run_methods(bins):\n",
      "            \n",
      "                ## Single Read Methods\n",
      "                fchunk, fcall = Methods.first_chunk( contexts, labels, cscore )\n",
      "                lchunk, lcall = Methods.last_chunk( contexts, labels, cscore )\n",
      "                rchunk, rcall = Methods.random_chunk( contexts, labels, cscore )\n",
      "\n",
      "                ## Multi-Read Methods\n",
      "                bchunk, bcall = Methods.best_chunk( contexts, labels )\n",
      "                ichunk, icall = Methods.ind_consensus( contexts, labels, cscore )\n",
      "                hchunk, hcall = Methods.hmm_consensus( indices, ems, len(means), chunk_vector )\n",
      "\n",
      "                 # First Chunk\n",
      "                soft_calls['f'].append( fchunk )\n",
      "                if barcode == fcall[0]:\n",
      "                    bins['f'] += 1\n",
      "\n",
      "                # Last Chunk\n",
      "                soft_calls['l'].append( lchunk )\n",
      "                if barcode == lcall[0]:\n",
      "                    bins['l'] += 1\n",
      "\n",
      "                # Random Chunk\n",
      "                soft_calls['r'].append( rchunk )\n",
      "                if barcode == rcall[0]:\n",
      "                    bins['r'] += 1\n",
      "\n",
      "                # Best Chunk\n",
      "                soft_calls['b'].append( bchunk )\n",
      "                if barcode == bcall[0]:\n",
      "                    bins['b'] += 1\n",
      "\n",
      "                # Ind Consensus\n",
      "                soft_calls['i'].append( ichunk )\n",
      "                if barcode == icall[0]:\n",
      "                    bins['i'] += 1\n",
      "\n",
      "                #HMM Consensus\n",
      "                soft_calls['h'].append( hchunk )\n",
      "                if barcode == hcall[0]:\n",
      "                    bins['h'] += 1\n",
      "                    \n",
      "            if multi:\n",
      "                run_methods(bins_mr)\n",
      "                # update counter\n",
      "                counter_mr += 1\n",
      "            else:\n",
      "                run_methods(bins_sr)\n",
      "                counter_sr += 1\n",
      "    \n",
      "    print '# of MR events:{}\\t# of SR events:{}\\tcsore:{}'.format( counter_mr, counter_sr, cscore )\n",
      "    j = data_counter\n",
      "    for i in data:\n",
      "        if i == 'data_mr':\n",
      "            data[i][j][0] = bins_mr['f']*1.0 / counter_mr\n",
      "            data[i][j][1] = np.mean(soft_calls['f'])\n",
      "            data[i][j][2] = bins_mr['l']*1.0 / counter_mr\n",
      "            data[i][j][3] = np.mean(soft_calls['l'])\n",
      "            data[i][j][4] = bins_mr['r']*1.0 / counter_mr\n",
      "            data[i][j][5] = np.mean(soft_calls['r'])\n",
      "            data[i][j][6] = bins_mr['h']*1.0 / counter_mr\n",
      "            data[i][j][7] = np.mean(soft_calls['h'])\n",
      "            data[i][j][8] = bins_mr['b']*1.0 / counter_mr\n",
      "            data[i][j][9] = np.mean(soft_calls['b'])\n",
      "            data[i][j][10] = bins_mr['i']*1.0 / counter_mr\n",
      "            data[i][j][11] = np.mean(soft_calls['i'])\n",
      "        else:\n",
      "            data[i][j][0] = bins_sr['f']*1.0 / counter_sr\n",
      "            data[i][j][1] = np.mean(soft_calls['f'])\n",
      "            data[i][j][2] = bins_sr['l']*1.0 / counter_sr\n",
      "            data[i][j][3] = np.mean(soft_calls['l'])\n",
      "            data[i][j][4] = bins_sr['r']*1.0 / counter_sr\n",
      "            data[i][j][5] = np.mean(soft_calls['r'])\n",
      "            data[i][j][6] = bins_sr['h']*1.0 / counter_sr\n",
      "            data[i][j][7] = np.mean(soft_calls['h'])\n",
      "            data[i][j][8] = bins_sr['b']*1.0 / counter_sr\n",
      "            data[i][j][9] = np.mean(soft_calls['b'])\n",
      "            data[i][j][10] = bins_sr['i']*1.0 / counter_sr\n",
      "            data[i][j][11] = np.mean(soft_calls['i'])\n",
      "    data_counter += 1\n",
      "\n",
      "accuracy_by_filter_score( data['data_sr'], 'Accuracy of Single Reads by Barcode' )\n",
      "accuracy_by_filter_score( data['data_mr'], 'Accuracy of Multi Reads by Barcode' )"
     ],
     "language": "python",
     "metadata": {},
     "outputs": [
      {
       "output_type": "stream",
       "stream": "stdout",
       "text": [
        "C:0.98\t\tAssigned:9\tPercentage:38.76%\n"
       ]
      }
     ]
    },
    {
     "cell_type": "heading",
     "level": 2,
     "metadata": {},
     "source": [
      "Extras:  New Improvements to Pseudo-Trained Model"
     ]
    },
    {
     "cell_type": "code",
     "collapsed": false,
     "input": [
      "# Acquire Events\n",
      "source = '../Data/JSON/New/'\n",
      "for root, dirnames, filenames in os.walk(source):\n",
      "    events = filenames\n",
      "\n",
      "# Read in Untrained HMM \n",
      "with open ( '../Data/HMMs/Temp_Test.txt', 'r' ) as file:\n",
      "    model = Model.read( file )\n",
      "\n",
      "# Acquire indices\n",
      "indices = { state.name: i for i, state in enumerate( model.states ) }\n",
      "\n",
      "# Rank Events by CHUNK Score\n",
      "ranked_events = {}\n",
      "for i in xrange(10):\n",
      "    ranked_events[i] = []\n",
      "\n",
      "print 'Ranking Events by CHUNK Score'\n",
      "counter = 0\n",
      "for event_name in events:  \n",
      "    counter+=1\n",
      "    # Convert JSON to event\n",
      "    event = Event.from_json( source + event_name )\n",
      "\n",
      "    # Convert event into a list of means\n",
      "    means = [seg['mean'] for seg in event.segments]\n",
      "\n",
      "    # Perform forward_backward algorithm\n",
      "    trans, ems = model.forward_backward( means )\n",
      "\n",
      "    # Partition the event into 'chunks' of context / label regions\n",
      "    contexts, labels = partition_event( indices, event, ems, means)\n",
      "\n",
      "    # Get chunk scores\n",
      "    contexts, labels = chunk_score( indices, contexts, labels, ems )\n",
      "\n",
      "    # Get chunk vector\n",
      "    contexts, labels = chunk_vector( indices, contexts, labels, ems )\n",
      "    \n",
      "    if contexts and labels:\n",
      "        max_c = max( [ x[0] for x in contexts ] ) \n",
      "        max_l = max( [ x[0] for x in labels ] )\n",
      "        \n",
      "        for i in xrange(9,-1,-1):\n",
      "            if max_c >= i*.10 and max_l >= i*.10:\n",
      "                clear_output(wait=True)\n",
      "                print 'C:{}\\t\\tAssigned:{}\\tPercentage:{}%'.format(round(max_c,2), i, round((counter*1.0/len(events))*100,2))\n",
      "                sys.stdout.flush()\n",
      "                ranked_events[i].append( (event_name, contexts, labels, ems, means) )\n",
      "                break\n",
      "print '\\n'\n",
      "for i in ranked_events:\n",
      "    print 'cscore:{} to {}\\t# of Events:{}'.format(i*.10, (i+1)*.10, len(ranked_events[i]))\n",
      "\n",
      "# Create array\n",
      "data = np.zeros( (10, 12) ) \n",
      "\n",
      "## Iterate through the range of cutoff values: \n",
      "cscores = [ 0.9, 0.8, 0.7, 0.6, 0.5, 0.4, 0.3, 0.2, 0.1, 0.0 ]\n",
      "data_counter = 0\n",
      "for cscore in cscores:\n",
      "    \n",
      "    #print '\\nCscore: {}\\n'.format( cscore )\n",
      "    # Counters\n",
      "    counters = []\n",
      "    counter = 0\n",
      "    \n",
      "    # Bins to hold counts\n",
      "    bins = { 'f': 0, 'l': 0, 'r':0, 'b': 0, 'i': 0, 'h': 0 }                # Counter for hard calls\n",
      "    soft_calls = { 'f': [], 'l': [], 'r':[], 'b': [], 'i': [], 'h': [] }    # Will hold soft calls\n",
      "    \n",
      "    ## For a given cscore, group and iterate through.\n",
      "    event_sum = 0\n",
      "    for i in xrange(9, int(cscore*10-1), -1):\n",
      "        event_sum += len(ranked_events[i])\n",
      "        for event in ranked_events[i]:\n",
      "            \n",
      "            # Unpack Variables\n",
      "            event_name = event[0]\n",
      "            contexts = event[1]\n",
      "            labels = event[2]\n",
      "            ems = event[3]\n",
      "            means = event[4]\n",
      "            barcode = event_name.split('-')[0]\n",
      "            # update counter\n",
      "            counter += 1\n",
      "           \n",
      "            ## Single Read Methods\n",
      "            fchunk, fcall = Methods.first_chunk( contexts, labels, cscore )\n",
      "            lchunk, lcall = Methods.last_chunk( contexts, labels, cscore )\n",
      "            rchunk, rcall = Methods.random_chunk( contexts, labels, cscore )\n",
      "            \n",
      "            ## Multi-Read Methods\n",
      "            bchunk, bcall = Methods.best_chunk( contexts, labels )\n",
      "            ichunk, icall = Methods.ind_consensus( contexts, labels, cscore )\n",
      "            hchunk, hcall = Methods.hmm_consensus( indices, ems, len(means), chunk_vector )\n",
      "\n",
      "             # First Chunk\n",
      "            soft_calls['f'].append( fchunk )\n",
      "            if barcode == fcall[0]:\n",
      "                bins['f'] += 1\n",
      "                \n",
      "            # Last Chunk\n",
      "            soft_calls['l'].append( lchunk )\n",
      "            if barcode == lcall[0]:\n",
      "                bins['l'] += 1\n",
      "                \n",
      "            # Random Chunk\n",
      "            soft_calls['r'].append( rchunk )\n",
      "            if barcode == rcall[0]:\n",
      "                bins['r'] += 1\n",
      "            \n",
      "            # Best Chunk\n",
      "            soft_calls['b'].append( bchunk )\n",
      "            if barcode == bcall[0]:\n",
      "                bins['b'] += 1\n",
      "                \n",
      "            # Ind Consensus\n",
      "            soft_calls['i'].append( ichunk )\n",
      "            if barcode == icall[0]:\n",
      "                bins['i'] += 1\n",
      "            #print 'Context_hc: {}\\tBarcode: {}\\tEvent_Name:{}'.format( icall[0], barcode, event_name )\n",
      "                \n",
      "            #HMM Consensus\n",
      "            soft_calls['h'].append( hchunk )\n",
      "            if barcode == hcall[0]:\n",
      "                bins['h'] += 1\n",
      "                \n",
      "    j = data_counter\n",
      "    data[j][0] = bins['f']*1.0 / counter\n",
      "    data[j][1] = np.mean(soft_calls['f'])\n",
      "    data[j][2] = bins['l']*1.0 / counter\n",
      "    data[j][3] = np.mean(soft_calls['l'])\n",
      "    data[j][4] = bins['r']*1.0 / counter\n",
      "    data[j][5] = np.mean(soft_calls['r'])\n",
      "    data[j][6] = bins['h']*1.0 / counter\n",
      "    data[j][7] = np.mean(soft_calls['h'])\n",
      "    data[j][8] = bins['b']*1.0 / counter\n",
      "    data[j][9] = np.mean(soft_calls['b'])\n",
      "    data[j][10] = bins['i']*1.0 / counter\n",
      "    data[j][11] = np.mean(soft_calls['i'])\n",
      "    data_counter += 1\n",
      "     "
     ],
     "language": "python",
     "metadata": {},
     "outputs": [
      {
       "output_type": "stream",
       "stream": "stdout",
       "text": [
        "C:0.0\t\tAssigned:0\tPercentage:100.0%\n"
       ]
      },
      {
       "output_type": "stream",
       "stream": "stdout",
       "text": [
        "\n",
        "\n",
        "cscore:0.0 to 0.1\t# of Events:44\n",
        "cscore:0.1 to 0.2\t# of Events:2\n",
        "cscore:0.2 to 0.3\t# of Events:2\n",
        "cscore:0.3 to 0.4\t# of Events:1\n",
        "cscore:0.4 to 0.5\t# of Events:5\n",
        "cscore:0.5 to 0.6\t# of Events:5\n",
        "cscore:0.6 to 0.7\t# of Events:11\n",
        "cscore:0.7 to 0.8\t# of Events:11\n",
        "cscore:0.8 to 0.9\t# of Events:27\n",
        "cscore:0.9 to 1.0\t# of Events:21\n"
       ]
      }
     ],
     "prompt_number": 13
    },
    {
     "cell_type": "code",
     "collapsed": false,
     "input": [
      "accuracy_by_filter_score( data, 'Accuracy of Context Chunk by Barcode -- Pseudo_Trained HMM' )"
     ],
     "language": "python",
     "metadata": {},
     "outputs": [
      {
       "metadata": {},
       "output_type": "display_data",
       "png": "[encoded data removed]",
       "text": [
        "<matplotlib.figure.Figure at 0x189e0d68>"
       ]
      }
     ],
     "prompt_number": 14
    },
    {
     "cell_type": "heading",
     "level": 2,
     "metadata": {},
     "source": [
      "Plot Functions"
     ]
    },
    {
     "cell_type": "code",
     "collapsed": false,
     "input": [
      "def accuracy_by_filter_score( data, title, sc=False ):\n",
      "    \n",
      "    # Convert Groups of arrays into lists of scores by csore.\n",
      "    first, last, random = [], [], []\n",
      "    hmm, best, ind = [], [], []\n",
      "    sample_sizes = []\n",
      "    \n",
      "    for j in xrange(0,10):\n",
      "            \n",
      "            #trial = np.loadtxt( '../Data/Results/' + trial_name, delimiter = ',' )\n",
      "            #accuracies = means[::2]\n",
      "            #acc_std = stds[::2]\n",
      "            #softcalls = means[1::2]\n",
      "            #sc_std = stds[1::2]\n",
      "            \n",
      "            trial = data[j]\n",
      "        \n",
      "            accuracies = trial[::2]\n",
      "            softcalls = trial[1::2]\n",
      "            \n",
      "            if sc:\n",
      "                f,l,r,h,b,i = softcalls\n",
      "            else:\n",
      "                f,l,r,h,b,i = accuracies\n",
      "            first.append( f ); last.append( l ); random.append( r )\n",
      "            hmm.append( h ) ; best.append( b ); ind.append( i )\n",
      "         \n",
      "            #sample_sizes.append( trial_name.split('_')[3] )\n",
      "\n",
      "    x = [ 0.9, 0.8, 0.7, 0.6, 0.5, 0.4, 0.3, 0.2, 0.1, 0.0 ]\n",
      "    plt.plot( x, first, label='first' )\n",
      "    plt.plot( x, last, label='last' ) \n",
      "    plt.plot( x, random, label='random' )\n",
      "    \n",
      "    plt.plot( x, hmm, label='hmm' )\n",
      "    plt.plot( x, best, label='best' )\n",
      "    plt.plot( x, ind, label='ind' )\n",
      "    \n",
      "   # plt.title( trial_name.split('_')[0] + ' - ' + trial_name.split('_')[1] \\\n",
      "    #            + ' - ' + trial_name.split('_')[2], fontsize=14 )\n",
      "    \n",
      "    plt.title( title )\n",
      "    plt.xlabel( 'Chunk Score Cutoff', fontsize=14 )\n",
      "    plt.ylabel( 'Accuracy', fontsize=14 )\n",
      "    plt.ylim( [0,1.0] )\n",
      "    plt.legend(loc='lower left', bbox_to_anchor=(1.02, 0), borderaxespad=0, fontsize=14)\n",
      "    plt.gca().invert_xaxis()\n",
      "    plt.show()\n"
     ],
     "language": "python",
     "metadata": {},
     "outputs": [],
     "prompt_number": 1
    },
    {
     "cell_type": "code",
     "collapsed": false,
     "input": [],
     "language": "python",
     "metadata": {},
     "outputs": []
    }
   ],
   "metadata": {}
  }
 ]
}